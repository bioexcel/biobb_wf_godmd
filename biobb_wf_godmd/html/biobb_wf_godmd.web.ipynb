{
 "cells": [
  {
   "attachments": {},
   "cell_type": "markdown",
   "metadata": {},
   "source": [
    "# Protein Conformational Transitions calculations tutorial using BioExcel Building Blocks (biobb) and GOdMD\n",
    "\n",
    "***\n",
    "This tutorial aims to illustrate the process of computing a **conformational transition** between two known **structural conformations** of a protein, step by step, using the **BioExcel Building Blocks library (biobb)**. \n",
    "\n",
    "Examples shown are the calculation of the conformational transition for the **Adenylate Kinase** protein, from the **closed state** (PDB Code [1AKE](https://www.rcsb.org/structure/1AKE)) to the **open state** (PDB Code [4AKE](https://www.rcsb.org/structure/4AKE)). **Adenylate Kinases** are **phosphotransferase enzymes** that catalyze the interconversion of the various **adenosine phosphates** (ATP, ADP, and AMP), and are known to undergo large **conformational changes** during their **catalytic cycle**.\n",
    "\n",
    "The code wrapped is the ***GOdMD*** method, developed in the **[Molecular Modeling and Bioinformatics](https://mmb.irbbarcelona.org/www/) group** (IRB Barcelona). **GOdMD** determines pathways for **conformational transitions** in macromolecules using **discrete molecular dynamics** and **biasing techniques** based on a combination of **essential dynamics** and **Maxwell-Demon sampling techniques**. A web implementation of the method can be found here: https://mmb.irbbarcelona.org/GOdMD/index.php\n",
    "\n",
    "**Exploration of conformational transition pathways from coarse-grained simulations.**<br>\n",
    "*Sfriso P, Hospital A, Emperador A, Orozco M.*<br>\n",
    "*Bioinformatics, 129(16):1980-6.*<br>\n",
    "*Available at: https://doi.org/10.1093/bioinformatics/btt324*\n",
    "\n",
    "***\n",
    "\n",
    "## Settings\n",
    "\n",
    "### Biobb modules used\n",
    "\n",
    " - [biobb_godmd](https://github.com/bioexcel/biobb_godmd): Tools to compute protein conformational transitions using GOdMD.\n",
    " - [biobb_io](https://github.com/bioexcel/biobb_io): Tools to fetch biomolecular data from public databases.\n",
    " - [biobb_structure_utils](https://github.com/bioexcel/biobb_structure_utils): Tools to modify or extract information from a PDB structure.\n",
    " - [biobb_analysis](https://github.com/bioexcel/biobb_analysis): Tools to analyse Molecular Dynamics trajectories.\n",
    "  \n",
    "### Auxiliar libraries used\n",
    "\n",
    " - [nb_conda_kernels](https://github.com/Anaconda-Platform/nb_conda_kernels): Enables a Jupyter Notebook or JupyterLab application in one conda environment to access kernels for Python, R, and other languages found in other environments.\n",
    " - [ipywidgets](https://github.com/jupyter-widgets/ipywidgets): Interactive HTML widgets for Jupyter notebooks and the IPython kernel.\n",
    " - [nglview](https://nglviewer.org/#nglview): Jupyter/IPython widget to interactively view molecular structures and trajectories in notebooks.\n",
    " - [plotly](https://plotly.com/python/): Python Open Source Graphing Library. \n",
    " - [simpletraj](https://github.com/arose/simpletraj): Lightweight coordinate-only trajectory reader based on code from GROMACS, MDAnalysis and VMD.\n",
    "\n",
    "\n",
    "### Conda Installation and Launch\n",
    "\n",
    "```console\n",
    "git clone https://github.com/bioexcel/biobb_wf_godmd.git\n",
    "cd biobb_wf_godmd\n",
    "conda env create -f conda_env/environment.yml\n",
    "conda activate biobb_wf_godmd\n",
    "jupyter-nbextension enable --py --user widgetsnbextension\n",
    "jupyter-notebook biobb_wf_godmd/notebooks/biobb_wf_godmd.ipynb\n",
    "  ``` \n",
    "\n",
    "***\n",
    "## Pipeline steps\n",
    " 1. [Input Parameters](#input)\n",
    " 2. [Fetching Structures](#fetch)\n",
    " 3. [Preparing Structures](#preparing)\n",
    " 3. [Residue Mapping](#mapping)\n",
    " 4. [Conformational Transition](#godmd)\n",
    " 5. [Transition Visualization](#trajectory)\n",
    " 6. [Questions & Comments](#questions)\n",
    " \n",
    "***\n",
    "\n",
    "<img src=\"https://bioexcel.eu/wp-content/uploads/2019/04/Bioexcell_logo_1080px_transp.png\" alt=\"Bioexcel2 logo\" width=\"400\" >\n",
    "\n",
    "***"
   ]
  },
  {
   "attachments": {},
   "cell_type": "markdown",
   "metadata": {},
   "source": [
    "<a id=\"input\"></a>\n",
    "## Input parameters\n",
    "**Input parameters** needed:\n",
    " - **Auxiliar libraries**: Libraries to be used in the workflow are imported once at the beginning\n",
    " \n",
    " \n",
    " - **pdbOrigin**: PDB code for the origin structure (e.g. 1AKE)\n",
    " - **chainOrigin**: Chain for the origin structure (e.g. A)\n",
    " - **ligandOrigin**: Ligand (if present) for the origin structure (e.g. AP5) \n",
    " \n",
    " \n",
    " - **pdbTarget**: PDB code for the target structure (e.g. 4AKE)\n",
    " - **chainTarget**: Chain for the target structure (e.g. A)\n",
    " - **ligandTarget**: Ligand (if present) for the target structure (e.g. None)\n"
   ]
  },
  {
   "cell_type": "code",
   "execution_count": 12,
   "metadata": {},
   "outputs": [],
   "source": [
    "import os\n",
    "import plotly\n",
    "import plotly.graph_objs as go\n",
    "import nglview\n",
    "import ipywidgets\n",
    "\n",
    "# Adenylate Kinase (ADK)\n",
    "pdbOrigin = \"1ake\" \n",
    "chainOrigin = \"A\"\n",
    "ligandOrigin = \"AP5\"\n",
    "\n",
    "pdbTarget = \"4ake\" \n",
    "chainTarget = \"A\"\n",
    "ligandTarget = None\n",
    "\n",
    "# Other Examples (taken from https://mmb.irbbarcelona.org/TransAtlas/)\n",
    "\n",
    "# Estrogen Receptor Alpha (ERα)\n",
    "# pdbOrigin = \"1a52\" \n",
    "# pdbTarget = \"3dt3\" \n",
    "# chainOrigin = \"A\"\n",
    "# chainTarget = \"B\"\n",
    "# ligandOrigin = \"EST\"\n",
    "# ligandTarget = \"369\"\n",
    "\n",
    "# Calmodulin (CaM)\n",
    "# pdbOrigin = \"1deg\" \n",
    "# pdbTarget = \"2f2o\" \n",
    "# chainOrigin = \"A\"\n",
    "# chainTarget = \"A\"\n",
    "# ligandOrigin = None\n",
    "# ligandTarget = None"
   ]
  },
  {
   "attachments": {},
   "cell_type": "markdown",
   "metadata": {},
   "source": [
    "<a id=\"fetch\"></a>\n",
    "***\n",
    "## Fetching PDB structures\n",
    "Downloading **PDB structures** with the origin and target **protein molecules** from the RCSB PDB database.<br>\n",
    "Alternatively, **PDB files** can be used as starting structures. <br>\n",
    "***\n",
    "**Building Blocks** used:\n",
    " - [Pdb](https://biobb-io.readthedocs.io/en/latest/api.html#module-api.pdb) from **biobb_io.api.pdb**\n",
    "***"
   ]
  },
  {
   "cell_type": "code",
   "execution_count": 13,
   "metadata": {},
   "outputs": [
    {
     "name": "stdout",
     "output_type": "stream",
     "text": [
      "2023-07-27 08:52:30,155 [MainThread  ] [INFO ]  Executing biobb_io.api.pdb Version: 4.0.0\n",
      "2023-07-27 08:52:30,156 [MainThread  ] [INFO ]  Downloading 1ake from: https://www.ebi.ac.uk/pdbe/entry-files/download/pdb1ake.ent\n",
      "2023-07-27 08:52:30,540 [MainThread  ] [INFO ]  Writting pdb to: 1ake.pdb\n",
      "2023-07-27 08:52:30,558 [MainThread  ] [INFO ]  Executing biobb_io.api.pdb Version: 4.0.0\n",
      "2023-07-27 08:52:30,560 [MainThread  ] [INFO ]  Downloading 4ake from: https://www.ebi.ac.uk/pdbe/entry-files/download/pdb4ake.ent\n",
      "2023-07-27 08:52:30,899 [MainThread  ] [INFO ]  Writting pdb to: 4ake.pdb\n"
     ]
    },
    {
     "data": {
      "text/plain": [
       "0"
      ]
     },
     "execution_count": 13,
     "metadata": {},
     "output_type": "execute_result"
    }
   ],
   "source": [
    "# Import module\n",
    "from biobb_io.api.pdb import pdb\n",
    "\n",
    "# Create properties dict and inputs/outputs\n",
    "originPDB = pdbOrigin+'.pdb'\n",
    "targetPDB = pdbTarget+'.pdb'\n",
    "\n",
    "prop_origin = {\n",
    "    'pdb_code': pdbOrigin,\n",
    "    'filter': False\n",
    "}\n",
    "\n",
    "prop_target = {\n",
    "    'pdb_code': pdbTarget,\n",
    "    'filter': False\n",
    "}\n",
    "\n",
    "# Launch bb for Origin PDB\n",
    "pdb(output_pdb_path=originPDB,\n",
    "    properties=prop_origin)\n",
    "\n",
    "# Launch bb for Target PDB\n",
    "pdb(output_pdb_path=targetPDB,\n",
    "    properties=prop_target)"
   ]
  },
  {
   "attachments": {},
   "cell_type": "markdown",
   "metadata": {},
   "source": [
    "<a id=\"vis3D\"></a>\n",
    "### Visualizing 3D structures\n",
    "Visualizing the downloaded/given **PDB structures** using **NGL**: "
   ]
  },
  {
   "cell_type": "code",
   "execution_count": 14,
   "metadata": {
    "scrolled": true
   },
   "outputs": [
    {
     "data": {
      "application/vnd.jupyter.widget-view+json": {
       "model_id": "3d709ee462db4390b7687df6fad83581",
       "version_major": 2,
       "version_minor": 0
      },
      "text/plain": [
       "HBox(children=(NGLWidget(), NGLWidget()))"
      ]
     },
     "metadata": {},
     "output_type": "display_data"
    }
   ],
   "source": [
    "# Show different structures (for comparison)\n",
    "\n",
    "view1 = nglview.show_structure_file(originPDB)\n",
    "#view1.add_representation(repr_type='ball+stick')\n",
    "view1._remote_call('setSize', target='Widget', args=['400px','400px'])\n",
    "view1.camera='orthographic'\n",
    "view1\n",
    "view2 = nglview.show_structure_file(targetPDB)\n",
    "#view2.add_representation(repr_type='ball+stick')\n",
    "view2._remote_call('setSize', target='Widget', args=['400px','400px'])\n",
    "view2.camera='orthographic'\n",
    "view2\n",
    "ipywidgets.HBox([view1, view2])"
   ]
  },
  {
   "attachments": {},
   "cell_type": "markdown",
   "metadata": {},
   "source": [
    "<img src='ngl1.png' style='float:left;'></img><img src='ngl2.png' style='float:left;'></img>"
   ]
  },
  {
   "attachments": {},
   "cell_type": "markdown",
   "metadata": {},
   "source": [
    "<a id=\"preparing\"></a>\n",
    "***\n",
    "## Preparing the structures\n",
    "Preparing the **structures** to be used for the **conformational transition** calculation. \n",
    "- Extracting the interesting **chains** from the **PDB structures** (chain A in both cases).\n",
    "- Removing the **inhibitor** AP5A from the **closed conformation**. \n",
    "***\n",
    "**Building Blocks** used:\n",
    " - [extract_chain](https://biobb-structure-utils.readthedocs.io/en/stable/utils.html#module-utils.extract_chain) from **biobb_structure_utils.utils.extract_chain**\n",
    " - [remove_molecules](https://biobb-structure-utils.readthedocs.io/en/stable/utils.html#module-utils.remove_molecules) from **biobb_structure_utils.utils.remove_molecules**\n",
    " \n",
    "***"
   ]
  },
  {
   "attachments": {},
   "cell_type": "markdown",
   "metadata": {},
   "source": [
    "Extracting the interesting **chains** from the **PDB structures** (chain A in both cases)."
   ]
  },
  {
   "cell_type": "code",
   "execution_count": 15,
   "metadata": {
    "scrolled": true
   },
   "outputs": [
    {
     "name": "stdout",
     "output_type": "stream",
     "text": [
      "2023-07-27 08:52:30,980 [MainThread  ] [INFO ]  Executing biobb_structure_utils.utils.extract_chain Version: 4.0.0\n",
      "2023-07-27 08:52:30,981 [MainThread  ] [INFO ]  Copy: /Users/gbayarri/projects/BioBB/tutorials/biobb_wf_godmd/biobb_wf_godmd/notebooks/1ake.pdb to /Users/gbayarri/projects/BioBB/tutorials/biobb_wf_godmd/biobb_wf_godmd/notebooks/f640330e-a362-44d8-9bca-1542ec1b054e\n",
      "2023-07-27 08:52:30,982 [MainThread  ] [INFO ]  Selected Chains: A\n",
      "2023-07-27 08:52:30,982 [MainThread  ] [INFO ]  check_structure -i /Users/gbayarri/projects/BioBB/tutorials/biobb_wf_godmd/biobb_wf_godmd/notebooks/1ake.pdb -o 1ake.chains.pdb --force_save chains --select A\n",
      "\n",
      "2023-07-27 08:52:31,499 [MainThread  ] [INFO ]  Exit code 0\n",
      "\n",
      "2023-07-27 08:52:31,500 [MainThread  ] [INFO ]  ================================================================================\n",
      "=                   BioBB structure checking utility v3.12.1                   =\n",
      "=            P. Andrio, A. Hospital, G. Bayarri, J.L. Gelpi 2018-23            =\n",
      "================================================================================\n",
      "\n",
      "Warning: sequence features only available in mmCIF format or with external fasta input\n",
      "Structure /Users/gbayarri/projects/BioBB/tutorials/biobb_wf_godmd/biobb_wf_godmd/notebooks/1ake.pdb loaded\n",
      " PDB id: 1AKE\n",
      " Title: structure of the complex between adenylate kinase from escherichia coli and the inhibitor ap5a refined at 1.9 angstroms resolution: a model for a catalytic transition state\n",
      " Experimental method: x-ray diffraction\n",
      " Keywords: transferase(phosphotransferase)\n",
      " Resolution (A): 2.0\n",
      "\n",
      " Num. models: 1\n",
      " Num. chains: 2 (A: Protein, B: Protein)\n",
      " Num. residues:  808\n",
      " Num. residues with ins. codes:  0\n",
      " Num. residues with H atoms: 0\n",
      " Num. HETATM residues:  380\n",
      " Num. ligands or modified residues:  2\n",
      " Num. water mol.:  378\n",
      " Num. atoms:  3804\n",
      "Small mol ligands found\n",
      "AP5 A215\n",
      "AP5 B215\n",
      "Running chains. Options: --select A\n",
      "2 Chain(s) detected\n",
      " A: Protein\n",
      " B: Protein\n",
      "Selecting chain(s) A\n",
      "Final Num. models: 1\n",
      "Final Num. chains: 1 (A: Protein)\n",
      "Final Num. residues:  456\n",
      "Final Num. residues with ins. codes:  0\n",
      "Final Num. residues with H atoms: 0\n",
      "Final Num. HETATM residues:  242\n",
      "Final Num. ligands or modified residues:  1\n",
      "Final Num. water mol.:  241\n",
      "Final Num. atoms:  1954\n",
      "Small mol ligands found\n",
      "AP5 A215\n",
      "Structure saved on 1ake.chains.pdb\n",
      "\n",
      "2023-07-27 08:52:31,502 [MainThread  ] [INFO ]  Removed: ['/Users/gbayarri/projects/BioBB/tutorials/biobb_wf_godmd/biobb_wf_godmd/notebooks/f640330e-a362-44d8-9bca-1542ec1b054e']\n",
      "2023-07-27 08:52:31,504 [MainThread  ] [INFO ]  Executing biobb_structure_utils.utils.extract_chain Version: 4.0.0\n",
      "2023-07-27 08:52:31,505 [MainThread  ] [INFO ]  Copy: /Users/gbayarri/projects/BioBB/tutorials/biobb_wf_godmd/biobb_wf_godmd/notebooks/4ake.pdb to /Users/gbayarri/projects/BioBB/tutorials/biobb_wf_godmd/biobb_wf_godmd/notebooks/82b14f4b-a7dc-45a2-b31d-8dd8f9cc5f84\n",
      "2023-07-27 08:52:31,505 [MainThread  ] [INFO ]  Selected Chains: A\n",
      "2023-07-27 08:52:31,506 [MainThread  ] [INFO ]  check_structure -i /Users/gbayarri/projects/BioBB/tutorials/biobb_wf_godmd/biobb_wf_godmd/notebooks/4ake.pdb -o 4ake.chains.pdb --force_save chains --select A\n",
      "\n",
      "2023-07-27 08:52:31,908 [MainThread  ] [INFO ]  Exit code 0\n",
      "\n",
      "2023-07-27 08:52:31,909 [MainThread  ] [INFO ]  ================================================================================\n",
      "=                   BioBB structure checking utility v3.12.1                   =\n",
      "=            P. Andrio, A. Hospital, G. Bayarri, J.L. Gelpi 2018-23            =\n",
      "================================================================================\n",
      "\n",
      "Warning: sequence features only available in mmCIF format or with external fasta input\n",
      "Structure /Users/gbayarri/projects/BioBB/tutorials/biobb_wf_godmd/biobb_wf_godmd/notebooks/4ake.pdb loaded\n",
      " PDB id: 4AKE\n",
      " Title: adenylate kinase\n",
      " Experimental method: x-ray diffraction\n",
      " Keywords: nucleoside monophosphate kinase, atp:amp phosphotransferase, myokinase\n",
      " Resolution (A): 2.2\n",
      "\n",
      " Num. models: 1\n",
      " Num. chains: 2 (A: Protein, B: Protein)\n",
      " Num. residues:  575\n",
      " Num. residues with ins. codes:  0\n",
      " Num. residues with H atoms: 0\n",
      " Num. HETATM residues:  147\n",
      " Num. ligands or modified residues:  0\n",
      " Num. water mol.:  147\n",
      " Num. atoms:  3459\n",
      "Running chains. Options: --select A\n",
      "2 Chain(s) detected\n",
      " A: Protein\n",
      " B: Protein\n",
      "Selecting chain(s) A\n",
      "Final Num. models: 1\n",
      "Final Num. chains: 1 (A: Protein)\n",
      "Final Num. residues:  286\n",
      "Final Num. residues with ins. codes:  0\n",
      "Final Num. residues with H atoms: 0\n",
      "Final Num. HETATM residues:  72\n",
      "Final Num. ligands or modified residues:  0\n",
      "Final Num. water mol.:  72\n",
      "Final Num. atoms:  1728\n",
      "Structure saved on 4ake.chains.pdb\n",
      "\n",
      "2023-07-27 08:52:31,910 [MainThread  ] [INFO ]  Removed: ['/Users/gbayarri/projects/BioBB/tutorials/biobb_wf_godmd/biobb_wf_godmd/notebooks/82b14f4b-a7dc-45a2-b31d-8dd8f9cc5f84']\n"
     ]
    },
    {
     "data": {
      "text/plain": [
       "0"
      ]
     },
     "execution_count": 15,
     "metadata": {},
     "output_type": "execute_result"
    }
   ],
   "source": [
    "from biobb_structure_utils.utils.extract_chain import extract_chain\n",
    "\n",
    "originPDB_chain = pdbOrigin + \".chains.pdb\"\n",
    "targetPDB_chain = pdbTarget + \".chains.pdb\"\n",
    "\n",
    "prop = {\n",
    "    'chains': [ chainOrigin ]\n",
    "}\n",
    "\n",
    "\n",
    "# Launch bb for Origin PDB\n",
    "extract_chain(\n",
    "    input_structure_path=originPDB,\n",
    "    output_structure_path=originPDB_chain,\n",
    "    properties=prop\n",
    ")\n",
    "\n",
    "prop = {\n",
    "    'chains': [ chainTarget ]\n",
    "}\n",
    "\n",
    "# Launch bb for Target PDB\n",
    "extract_chain(\n",
    "    input_structure_path=targetPDB,\n",
    "    output_structure_path=targetPDB_chain,\n",
    "    properties=prop\n",
    ")"
   ]
  },
  {
   "attachments": {},
   "cell_type": "markdown",
   "metadata": {},
   "source": [
    "Removing the **inhibitor** AP5A from the **closed conformation**. "
   ]
  },
  {
   "cell_type": "code",
   "execution_count": 16,
   "metadata": {},
   "outputs": [
    {
     "name": "stdout",
     "output_type": "stream",
     "text": [
      "2023-07-27 08:52:31,920 [MainThread  ] [INFO ]  Executing biobb_structure_utils.utils.remove_molecules Version: 4.0.0\n",
      "2023-07-27 08:52:31,922 [MainThread  ] [INFO ]  Copy: /Users/gbayarri/projects/BioBB/tutorials/biobb_wf_godmd/biobb_wf_godmd/notebooks/1ake.chains.pdb to /Users/gbayarri/projects/BioBB/tutorials/biobb_wf_godmd/biobb_wf_godmd/notebooks/11aa9d4f-469d-492c-a4e7-0540c469d07c\n",
      "2023-07-27 08:52:31,975 [MainThread  ] [INFO ]  Writting pdb to: /Users/gbayarri/projects/BioBB/tutorials/biobb_wf_godmd/biobb_wf_godmd/notebooks/11aa9d4f-469d-492c-a4e7-0540c469d07c/1ake.chains.nolig.pdb\n",
      "2023-07-27 08:52:31,977 [MainThread  ] [INFO ]  Removed: ['/Users/gbayarri/projects/BioBB/tutorials/biobb_wf_godmd/biobb_wf_godmd/notebooks/11aa9d4f-469d-492c-a4e7-0540c469d07c']\n"
     ]
    }
   ],
   "source": [
    "from biobb_structure_utils.utils.remove_molecules import remove_molecules\n",
    "\n",
    "originPDB_chain_nolig = pdbOrigin + \".chains.nolig.pdb\"\n",
    "targetPDB_chain_nolig = pdbTarget + \".chains.nolig.pdb\"\n",
    "\n",
    "if ligandOrigin:\n",
    "    prop = {\n",
    "        'molecules': [\n",
    "            {\n",
    "                'name' : ligandOrigin\n",
    "            }\n",
    "        ]\n",
    "    }\n",
    "    remove_molecules(input_structure_path=originPDB_chain,\n",
    "                     output_molecules_path=originPDB_chain_nolig,\n",
    "                     properties=prop)\n",
    "else:\n",
    "    originPDB_chain_nolig = originPDB_chain\n",
    "\n",
    "if ligandTarget:\n",
    "    prop = {\n",
    "        'molecules': [\n",
    "            {\n",
    "                'name' : ligandTarget\n",
    "            }\n",
    "        ]\n",
    "    }\n",
    "    remove_molecules(input_structure_path=targetPDB_chain,\n",
    "                     output_molecules_path=targetPDB_chain_nolig,\n",
    "                     properties=prop)\n",
    "else:\n",
    "    targetPDB_chain_nolig = targetPDB_chain\n"
   ]
  },
  {
   "attachments": {},
   "cell_type": "markdown",
   "metadata": {},
   "source": [
    "<a id=\"vis3D_chains\"></a>\n",
    "### Visualizing 3D structures\n",
    "Visualizing the modified **PDB structures** using **NGL**: "
   ]
  },
  {
   "cell_type": "code",
   "execution_count": 17,
   "metadata": {
    "scrolled": true
   },
   "outputs": [
    {
     "data": {
      "application/vnd.jupyter.widget-view+json": {
       "model_id": "76438c9d8a2f4a2ea1c4d584d2327078",
       "version_major": 2,
       "version_minor": 0
      },
      "text/plain": [
       "HBox(children=(NGLWidget(), NGLWidget()))"
      ]
     },
     "metadata": {},
     "output_type": "display_data"
    }
   ],
   "source": [
    "# Show different structures generated (for comparison)\n",
    "\n",
    "view1 = nglview.show_structure_file(originPDB_chain_nolig)\n",
    "#view1.add_representation(repr_type='ball+stick')\n",
    "view1._remote_call('setSize', target='Widget', args=['400px','400px'])\n",
    "view1.camera='orthographic'\n",
    "view1\n",
    "view2 = nglview.show_structure_file(targetPDB_chain_nolig)\n",
    "#view2.add_representation(repr_type='ball+stick')\n",
    "view2._remote_call('setSize', target='Widget', args=['400px','400px'])\n",
    "view2.camera='orthographic'\n",
    "view2\n",
    "ipywidgets.HBox([view1, view2])"
   ]
  },
  {
   "attachments": {},
   "cell_type": "markdown",
   "metadata": {},
   "source": [
    "<img src='ngl3.png' style='float:left;'></img><img src='ngl4.png' style='float:left;'></img>"
   ]
  },
  {
   "attachments": {},
   "cell_type": "markdown",
   "metadata": {},
   "source": [
    "<a id=\"mapping\"></a>\n",
    "***\n",
    "## Computing the mapping\n",
    "**GOdMD** works by moving the atoms from the position of the **origin structure** to the one in the **target structure**. For that, a one-to-one correspondance is needed. This step builds a couple of **mapping files** (.aln) from an internal **sequence alignment** (using ***[EMBOSS water](https://www.ebi.ac.uk/Tools/psa/emboss_water/)*** pairwise sequence alignment tool).     \n",
    "***\n",
    "**Building Blocks** used:\n",
    " - [godmd_prep](https://biobb-godmd.readthedocs.io/en/latest/godmd.html#module-godmd.godmd_prep) from **biobb_godmd.godmd.godmd_prep**\n",
    " \n",
    "***"
   ]
  },
  {
   "cell_type": "code",
   "execution_count": 18,
   "metadata": {
    "scrolled": true
   },
   "outputs": [
    {
     "name": "stdout",
     "output_type": "stream",
     "text": [
      "2023-07-27 08:52:32,015 [MainThread  ] [INFO ]  Executing biobb_godmd.godmd.godmd_prep Version: 4.0.0\n",
      "2023-07-27 08:52:32,017 [MainThread  ] [INFO ]  Copy: 1ake.chains.nolig.pdb to /Users/gbayarri/projects/BioBB/tutorials/biobb_wf_godmd/biobb_wf_godmd/notebooks/263378e0-4f63-4c44-b60d-ddbf77349a5c\n",
      "2023-07-27 08:52:32,018 [MainThread  ] [INFO ]  Copy: 4ake.chains.pdb to /Users/gbayarri/projects/BioBB/tutorials/biobb_wf_godmd/biobb_wf_godmd/notebooks/263378e0-4f63-4c44-b60d-ddbf77349a5c\n",
      "2023-07-27 08:52:32,021 [MainThread  ] [INFO ]  Creating ca66936b-6549-4330-8a86-cd15bdb694fc temporary folder\n",
      "2023-07-27 08:52:32,022 [MainThread  ] [INFO ]  water -auto -outfile ca66936b-6549-4330-8a86-cd15bdb694fc/water_align.out -asequence ca66936b-6549-4330-8a86-cd15bdb694fc/1ake.chains.nolig.pdb.fa -bsequence ca66936b-6549-4330-8a86-cd15bdb694fc/4ake.chains.pdb.fa -gapopen 12.0 -gapextend 2 -datafile EPAM250 -aformat markx10\n",
      "\n",
      "2023-07-27 08:52:32,109 [MainThread  ] [INFO ]  Exit code 0\n",
      "\n",
      "2023-07-27 08:52:32,113 [MainThread  ] [INFO ]  Removed: ['/Users/gbayarri/projects/BioBB/tutorials/biobb_wf_godmd/biobb_wf_godmd/notebooks/263378e0-4f63-4c44-b60d-ddbf77349a5c', 'ca66936b-6549-4330-8a86-cd15bdb694fc']\n"
     ]
    },
    {
     "data": {
      "text/plain": [
       "0"
      ]
     },
     "execution_count": 18,
     "metadata": {},
     "output_type": "execute_result"
    }
   ],
   "source": [
    "from biobb_godmd.godmd.godmd_prep import godmd_prep\n",
    "\n",
    "originALN = pdbOrigin + \".aln\"\n",
    "targetALN = pdbTarget + \".aln\"\n",
    "\n",
    "prop = {\n",
    "    'gapopen' : '12.0',\n",
    "    'gapextend' : '2'\n",
    "}\n",
    "\n",
    "godmd_prep( input_pdb_orig_path=originPDB_chain_nolig,\n",
    "            input_pdb_target_path=targetPDB_chain_nolig,\n",
    "            output_aln_orig_path=originALN,\n",
    "            output_aln_target_path=targetALN,\n",
    "            properties=prop)"
   ]
  },
  {
   "attachments": {},
   "cell_type": "markdown",
   "metadata": {},
   "source": [
    "<a id=\"godmd\"></a>\n",
    "***\n",
    "## Running GOdMD \n",
    "Computing the **conformational transition**, from the **origin** to the **target** structure, using **GOdMD** and the **mappings** generated in the previous step. The output file is a **trajectory file** in **mdcrd** format.\n",
    "    \n",
    "***\n",
    "**Building Blocks** used:\n",
    " - [godmd_run](https://biobb-godmd.readthedocs.io/en/latest/godmd.html#module-godmd.godmd_run) from **biobb_godmd.godmd.godmd_run**\n",
    " \n",
    "***"
   ]
  },
  {
   "cell_type": "code",
   "execution_count": 19,
   "metadata": {},
   "outputs": [
    {
     "name": "stdout",
     "output_type": "stream",
     "text": [
      "2023-07-27 08:52:32,122 [MainThread  ] [INFO ]  Executing biobb_godmd.godmd.godmd_run Version: 4.0.0\n",
      "2023-07-27 08:52:32,124 [MainThread  ] [INFO ]  Copy: 1ake.chains.nolig.pdb to /Users/gbayarri/projects/BioBB/tutorials/biobb_wf_godmd/biobb_wf_godmd/notebooks/6ec1c7e0-7012-4c0c-b26f-bcc114756630\n",
      "2023-07-27 08:52:32,125 [MainThread  ] [INFO ]  Copy: 4ake.chains.pdb to /Users/gbayarri/projects/BioBB/tutorials/biobb_wf_godmd/biobb_wf_godmd/notebooks/6ec1c7e0-7012-4c0c-b26f-bcc114756630\n",
      "2023-07-27 08:52:32,125 [MainThread  ] [INFO ]  Copy: 1ake.aln to /Users/gbayarri/projects/BioBB/tutorials/biobb_wf_godmd/biobb_wf_godmd/notebooks/6ec1c7e0-7012-4c0c-b26f-bcc114756630\n",
      "2023-07-27 08:52:32,126 [MainThread  ] [INFO ]  Copy: 4ake.aln to /Users/gbayarri/projects/BioBB/tutorials/biobb_wf_godmd/biobb_wf_godmd/notebooks/6ec1c7e0-7012-4c0c-b26f-bcc114756630\n",
      "2023-07-27 08:52:32,127 [MainThread  ] [INFO ]  Creating b2d9e324-ae97-46f9-b4d7-b066befeb56f temporary folder\n",
      "2023-07-27 08:52:32,128 [MainThread  ] [INFO ]  discrete -i b2d9e324-ae97-46f9-b4d7-b066befeb56f/godmd.in -pdbin 1ake.chains.nolig.pdb -pdbtarg 4ake.chains.pdb -p1 1ake.aln -p2 4ake.aln -o 1ake-4ake.godmd.log -ener 1ake-4ake.godmd.ene.out -trj 1ake-4ake.godmd.mdcrd\n",
      "\n",
      "2023-07-27 08:52:42,587 [MainThread  ] [INFO ]  Exit code 0\n",
      "\n",
      "2023-07-27 08:52:42,589 [MainThread  ] [INFO ]  Removed: ['/Users/gbayarri/projects/BioBB/tutorials/biobb_wf_godmd/biobb_wf_godmd/notebooks/6ec1c7e0-7012-4c0c-b26f-bcc114756630', 'b2d9e324-ae97-46f9-b4d7-b066befeb56f']\n"
     ]
    },
    {
     "data": {
      "text/plain": [
       "0"
      ]
     },
     "execution_count": 19,
     "metadata": {},
     "output_type": "execute_result"
    }
   ],
   "source": [
    "from biobb_godmd.godmd.godmd_run import godmd_run\n",
    "\n",
    "godmd_log = pdbOrigin + \"-\" + pdbTarget + \".godmd.log\"\n",
    "godmd_trj = pdbOrigin + \"-\" + pdbTarget + \".godmd.mdcrd\"\n",
    "godmd_ene = pdbOrigin + \"-\" + pdbTarget + \".godmd.ene.out\"\n",
    "godmd_pdb = pdbOrigin + \"-\" + pdbTarget + \".godmd.pdb\"\n",
    "\n",
    "prop = {\n",
    "    'godmdin':{\n",
    "        'temp' : 400\n",
    "    }\n",
    "}\n",
    "\n",
    "godmd_run(   input_pdb_orig_path=originPDB_chain_nolig,\n",
    "             input_pdb_target_path=targetPDB_chain_nolig,\n",
    "             input_aln_orig_path=originALN,\n",
    "             input_aln_target_path=targetALN,\n",
    "             output_log_path=godmd_log,\n",
    "             output_ene_path=godmd_ene,\n",
    "             output_trj_path=godmd_trj,\n",
    "             output_pdb_path=godmd_pdb,\n",
    "             properties=prop)\n"
   ]
  },
  {
   "attachments": {},
   "cell_type": "markdown",
   "metadata": {},
   "source": [
    "<a id=\"dcd\"></a>\n",
    "***\n",
    "## Converting trajectory to DCD (visualization)\n",
    "Converting the generated **GOdMD trajectory** from the **mdcrd** format to a **dcd** format, for the sake of visualization with **NGL** (see next cell).<br> <br>\n",
    "***\n",
    "**Building Blocks** used:\n",
    " - [cpptraj_convert](https://biobb-analysis.readthedocs.io/en/latest/ambertools.html#module-ambertools.cpptraj_convert) from **biobb_analysis.ambertools.cpptraj_convert**\n",
    "***"
   ]
  },
  {
   "cell_type": "code",
   "execution_count": 20,
   "metadata": {
    "scrolled": true
   },
   "outputs": [
    {
     "name": "stdout",
     "output_type": "stream",
     "text": [
      "2023-07-27 08:52:42,600 [MainThread  ] [INFO ]  Executing biobb_analysis.ambertools.cpptraj_convert Version: 4.0.2\n",
      "2023-07-27 08:52:42,601 [MainThread  ] [INFO ]  Copy: reference.pdb to /Users/gbayarri/projects/BioBB/tutorials/biobb_wf_godmd/biobb_wf_godmd/notebooks/527328cf-f35e-4c9a-b56b-5499a7f7a336\n",
      "2023-07-27 08:52:42,603 [MainThread  ] [INFO ]  Copy: 1ake-4ake.godmd.mdcrd to /Users/gbayarri/projects/BioBB/tutorials/biobb_wf_godmd/biobb_wf_godmd/notebooks/527328cf-f35e-4c9a-b56b-5499a7f7a336\n",
      "2023-07-27 08:52:42,604 [MainThread  ] [INFO ]  cpptraj -i fe219f61-26d6-467c-885e-adc4915f2249/instructions.in\n",
      "\n",
      "2023-07-27 08:52:42,763 [MainThread  ] [INFO ]  Exit code 0\n",
      "\n",
      "2023-07-27 08:52:42,764 [MainThread  ] [INFO ]  \n",
      "CPPTRAJ: Trajectory Analysis. V6.4.4 (AmberTools)\n",
      "    ___  ___  ___  ___\n",
      "     | \\/ | \\/ | \\/ | \n",
      "    _|_/\\_|_/\\_|_/\\_|_\n",
      "\n",
      "| Date/time: 07/27/23 08:52:42\n",
      "| Available memory: 9.637 GB\n",
      "\n",
      "INPUT: Reading input from 'fe219f61-26d6-467c-885e-adc4915f2249/instructions.in'\n",
      "  [parm /Users/gbayarri/projects/BioBB/tutorials/biobb_wf_godmd/biobb_wf_godmd/notebooks/527328cf-f35e-4c9a-b56b-5499a7f7a336/reference.pdb]\n",
      "\tReading '/Users/gbayarri/projects/BioBB/tutorials/biobb_wf_godmd/biobb_wf_godmd/notebooks/527328cf-f35e-4c9a-b56b-5499a7f7a336/reference.pdb' as PDB File\n",
      "\tReading bond info from CONECT records.\n",
      "\tNot reading bond info from LINK records.\n",
      "Warning: PDB line length is short (55 chars, expected 80).\n",
      "\tDetermining bond info from distances.\n",
      "Warning: Determining bond length parameters from element types for 'reference.pdb'.\n",
      "  [trajin /Users/gbayarri/projects/BioBB/tutorials/biobb_wf_godmd/biobb_wf_godmd/notebooks/527328cf-f35e-4c9a-b56b-5499a7f7a336/1ake-4ake.godmd.mdcrd 1 -1 1]\n",
      "\tReading '/Users/gbayarri/projects/BioBB/tutorials/biobb_wf_godmd/biobb_wf_godmd/notebooks/527328cf-f35e-4c9a-b56b-5499a7f7a336/1ake-4ake.godmd.mdcrd' as Amber Trajectory\n",
      "  [strip !:*]\n",
      "    STRIP: Stripping atoms in mask [!:*]\n",
      "  [trajout /Users/gbayarri/projects/BioBB/tutorials/biobb_wf_godmd/biobb_wf_godmd/notebooks/527328cf-f35e-4c9a-b56b-5499a7f7a336/1ake-4ake.godmd.dcd dcd]\n",
      "\tWriting '/Users/gbayarri/projects/BioBB/tutorials/biobb_wf_godmd/biobb_wf_godmd/notebooks/527328cf-f35e-4c9a-b56b-5499a7f7a336/1ake-4ake.godmd.dcd' as Charmm DCD\n",
      "---------- RUN BEGIN -------------------------------------------------\n",
      "\n",
      "PARAMETER FILES (1 total):\n",
      " 0: reference.pdb, 214 atoms, 214 res, box: None, 214 mol\n",
      "\n",
      "INPUT TRAJECTORIES (1 total):\n",
      " 0: '1ake-4ake.godmd.mdcrd' is an AMBER trajectory, Parm reference.pdb (reading 100 of 100)\n",
      "  Coordinate processing will occur on 100 frames.\n",
      "\n",
      "OUTPUT TRAJECTORIES (1 total):\n",
      "  '1ake-4ake.godmd.dcd' (100 frames) is a CHARMM DCD file (coords) Little Endian 32 bit\n",
      "\n",
      "BEGIN TRAJECTORY PROCESSING:\n",
      ".....................................................\n",
      "ACTION SETUP FOR PARM 'reference.pdb' (1 actions):\n",
      "  0: [strip !:*]\n",
      "\tStripping 0 atoms.\n",
      "Warning: No atoms to strip. Skipping.\n",
      "Warning: Setup incomplete for [strip]: Skipping\n",
      ".....................................................\n",
      "ACTIVE OUTPUT TRAJECTORIES (1):\n",
      "  /Users/gbayarri/projects/BioBB/tutorials/biobb_wf_godmd/biobb_wf_godmd/notebooks/527328cf-f35e-4c9a-b56b-5499a7f7a336/1ake-4ake.godmd.dcd (coordinates)\n",
      "----- 1ake-4ake.godmd.mdcrd (1-100, 1) -----\n",
      " 0% 10% 20% 30% 40% 51% 61% 71% 81% 91% 100% Complete.\n",
      "\n",
      "Read 100 frames and processed 100 frames.\n",
      "TIME: Avg. throughput= 31625.5534 frames / second.\n",
      "\n",
      "ACTION OUTPUT:\n",
      "TIME: Analyses took 0.0000 seconds.\n",
      "\n",
      "RUN TIMING:\n",
      "TIME:\t\tInit               : 0.0000 s (  0.39%)\n",
      "TIME:\t\tTrajectory Process : 0.0032 s ( 94.00%)\n",
      "TIME:\t\tAction Post        : 0.0000 s (  0.03%)\n",
      "TIME:\t\tAnalysis           : 0.0000 s (  0.06%)\n",
      "TIME:\t\tData File Write    : 0.0000 s (  0.09%)\n",
      "TIME:\t\tOther              : 0.0002 s (  0.05%)\n",
      "TIME:\tRun Total 0.0034 s\n",
      "---------- RUN END ---------------------------------------------------\n",
      "TIME: Total execution time: 0.1046 seconds.\n",
      "--------------------------------------------------------------------------------\n",
      "To cite CPPTRAJ use:\n",
      "Daniel R. Roe and Thomas E. Cheatham, III, \"PTRAJ and CPPTRAJ: Software for\n",
      "  Processing and Analysis of Molecular Dynamics Trajectory Data\". J. Chem.\n",
      "  Theory Comput., 2013, 9 (7), pp 3084-3095.\n",
      "\n",
      "\n",
      "2023-07-27 08:52:42,766 [MainThread  ] [INFO ]  Removed: ['/Users/gbayarri/projects/BioBB/tutorials/biobb_wf_godmd/biobb_wf_godmd/notebooks/527328cf-f35e-4c9a-b56b-5499a7f7a336', PurePosixPath('fe219f61-26d6-467c-885e-adc4915f2249')]\n"
     ]
    },
    {
     "data": {
      "text/plain": [
       "0"
      ]
     },
     "execution_count": 20,
     "metadata": {},
     "output_type": "execute_result"
    }
   ],
   "source": [
    "from biobb_analysis.ambertools.cpptraj_convert import cpptraj_convert\n",
    "\n",
    "godmd_trj_dcd = pdbOrigin + \"-\" + pdbTarget + \".godmd.dcd\"\n",
    "\n",
    "prop = {\n",
    "    'format': 'dcd'\n",
    "}\n",
    "\n",
    "cpptraj_convert(input_top_path=godmd_pdb,\n",
    "                input_traj_path=godmd_trj,\n",
    "                output_cpptraj_path=godmd_trj_dcd,\n",
    "                properties=prop)\n"
   ]
  },
  {
   "attachments": {},
   "cell_type": "markdown",
   "metadata": {},
   "source": [
    "***\n",
    "<a id=\"trajectory\"></a>\n",
    "## Visualizing trajectory\n",
    "Visualizing the **GOdMD** computed **conformational transition** using **NGL**. The scene shows the **origin** (tube, blue) and **target** (tube, red) structure for reference. \n",
    "\n",
    "***"
   ]
  },
  {
   "cell_type": "code",
   "execution_count": 21,
   "metadata": {
    "scrolled": true
   },
   "outputs": [
    {
     "data": {
      "application/vnd.jupyter.widget-view+json": {
       "model_id": "eb4b5524f6674577823c66f52f0cf76e",
       "version_major": 2,
       "version_minor": 0
      },
      "text/plain": [
       "NGLWidget(max_frame=99)"
      ]
     },
     "metadata": {},
     "output_type": "display_data"
    },
    {
     "data": {
      "application/vnd.jupyter.widget-view+json": {
       "model_id": "c1269bb5f98c4d1d9207ff51d779498a",
       "version_major": 2,
       "version_minor": 0
      },
      "text/plain": [
       "Tab(children=(Box(children=(Box(children=(Box(children=(Label(value='step'), IntSlider(value=1, min=-100)), la…"
      ]
     },
     "metadata": {},
     "output_type": "display_data"
    }
   ],
   "source": [
    "# Show trajectory\n",
    "\n",
    "view = nglview.show_simpletraj(nglview.SimpletrajTrajectory(godmd_trj_dcd, godmd_pdb), gui=True)\n",
    "\n",
    "view.add_representation(repr_type='tube', colorScheme = 'atomindex')\n",
    "\n",
    "# Origin Structure\n",
    "b = view.add_component(originPDB_chain_nolig)\n",
    "b.clear_representations()\n",
    "b.add_representation(repr_type='tube',\n",
    "                        opacity=.2,\n",
    "                        color='blue')\n",
    "\n",
    "# Target Structure\n",
    "c = view.add_component(targetPDB_chain_nolig)\n",
    "c.clear_representations()\n",
    "c.add_representation(repr_type='tube', \n",
    "                       opacity=.2,\n",
    "                        color='red')\n",
    "\n",
    "# Align origin and target\n",
    "code = \"\"\"\n",
    "var stage = this.stage;\n",
    "var clist_len = stage.compList.length;\n",
    "var i = 0;\n",
    "var s = [];\n",
    "for(i = 0; i <= clist_len; i++){\n",
    "    if(stage.compList[i] != undefined && stage.compList[i].structure != undefined) {        \n",
    "       s.push(stage.compList[i])\n",
    "    }\n",
    "}\n",
    "NGL.superpose(s[1].structure, s[2].structure, true, \".CA\")\n",
    "s[ 1 ].updateRepresentations({ position: true })\n",
    "s[ 1 ].autoView()\n",
    "\"\"\"\n",
    "\n",
    "view._execute_js_code(code)\n",
    "\n",
    "view._remote_call('setSize', target='Widget', args=['800px','600px'])\n",
    "view"
   ]
  },
  {
   "attachments": {},
   "cell_type": "markdown",
   "metadata": {},
   "source": [
    "<img src='trans.gif'></img>"
   ]
  },
  {
   "attachments": {},
   "cell_type": "markdown",
   "metadata": {},
   "source": [
    "***\n",
    "<a id=\"questions\"></a>\n",
    "\n",
    "## Questions & Comments\n",
    "\n",
    "Questions, issues, suggestions and comments are really welcome!\n",
    "\n",
    "* GitHub issues:\n",
    "    * [https://github.com/bioexcel/biobb](https://github.com/bioexcel/biobb)\n",
    "\n",
    "* BioExcel forum:\n",
    "    * [https://ask.bioexcel.eu/c/BioExcel-Building-Blocks-library](https://ask.bioexcel.eu/c/BioExcel-Building-Blocks-library)\n"
   ]
  }
 ],
 "metadata": {
  "kernelspec": {
   "display_name": "Python 3 (ipykernel)",
   "language": "python",
   "name": "python3"
  },
  "language_info": {
   "codemirror_mode": {
    "name": "ipython",
    "version": 3
   },
   "file_extension": ".py",
   "mimetype": "text/x-python",
   "name": "python",
   "nbconvert_exporter": "python",
   "pygments_lexer": "ipython3",
   "version": "3.9.16"
  }
 },
 "nbformat": 4,
 "nbformat_minor": 2
}
