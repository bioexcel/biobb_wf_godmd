{
 "cells": [
  {
   "cell_type": "markdown",
   "metadata": {},
   "source": [
    "# Protein Conformational Transitions calculations tutorial using BioExcel Building Blocks (biobb) and GOdMD\n",
    "\n",
    "***\n",
    "This tutorial aims to illustrate the process of computing a **conformational transition** between two known **structural conformations** of a protein, step by step, using the **BioExcel Building Blocks library (biobb)**. \n",
    "\n",
    "Examples shown are the calculation of XXX. \n",
    "\n",
    "The code wrapped is the ***GOdMD*** code:\n",
    "\n",
    "**Exploration of conformational transition pathways from coarse-grained simulations.**<br>\n",
    "*Sfriso P, Hospital A, Emperador A, Orozco M.*<br>\n",
    "*Bioinformatics, 129(16):1980-6.*<br>\n",
    "*Available at: https://doi.org/10.1093/bioinformatics/btt324*\n",
    "\n",
    "***\n",
    "\n",
    "## Settings\n",
    "\n",
    "### Biobb modules used\n",
    "\n",
    " - [biobb_godmd](https://github.com/bioexcel/biobb_godmd): Tools to compute protein conformational transitions using GOdMD.\n",
    " - [biobb_io](https://github.com/bioexcel/biobb_io): Tools to fetch biomolecular data from public databases.\n",
    " - [biobb_structure_utils](https://github.com/bioexcel/biobb_structure_utils): Tools to modify or extract information from a PDB structure.\n",
    " - [biobb_analysis](https://github.com/bioexcel/biobb_analysis): Tools to analyse Molecular Dynamics trajectories.\n",
    "  \n",
    "### Auxiliar libraries used\n",
    "\n",
    " - [nb_conda_kernels](https://github.com/Anaconda-Platform/nb_conda_kernels): Enables a Jupyter Notebook or JupyterLab application in one conda environment to access kernels for Python, R, and other languages found in other environments.\n",
    " - [ipywidgets](https://github.com/jupyter-widgets/ipywidgets): Interactive HTML widgets for Jupyter notebooks and the IPython kernel.\n",
    " - [nglview](https://nglviewer.org/#nglview): Jupyter/IPython widget to interactively view molecular structures and trajectories in notebooks.\n",
    " - [plotly](https://plotly.com/python/): Python Open Source Graphing Library. \n",
    " - [simpletraj](https://github.com/arose/simpletraj): Lightweight coordinate-only trajectory reader based on code from GROMACS, MDAnalysis and VMD.\n",
    "\n",
    "\n",
    "### Conda Installation and Launch\n",
    "\n",
    "```console\n",
    "git clone https://github.com/bioexcel/biobb_wf_godmd.git\n",
    "cd biobb_wf_godmd\n",
    "conda env create -f conda_env/environment.yml\n",
    "conda activate biobb_wf_godmd\n",
    "jupyter-nbextension enable --py --user widgetsnbextension\n",
    "jupyter-notebook biobb_wf_godmd/notebooks/biobb_wf_godmd.ipynb\n",
    "  ``` \n",
    "\n",
    "***\n",
    "## Pipeline steps\n",
    " 1. [Input Parameters](#input)\n",
    " 2. [Residue Mapping](#mapping)\n",
    " 3. [Conformational Transition](#godmd)\n",
    " 4. [Questions & Comments](#questions)\n",
    " \n",
    "***\n",
    "\n",
    "<img src=\"https://bioexcel.eu/wp-content/uploads/2019/04/Bioexcell_logo_1080px_transp.png\" alt=\"Bioexcel2 logo\" width=\"400\" >\n",
    "\n",
    "***"
   ]
  },
  {
   "cell_type": "markdown",
   "metadata": {},
   "source": [
    "<a id=\"input\"></a>\n",
    "## Input parameters\n",
    "**Input parameters** needed:\n",
    " - **Auxiliar libraries**: Libraries to be used in the workflow are imported once at the beginning\n",
    " \n",
    " \n",
    " - **CP2K_DATA_DIR (TO REMOVE)**: Path to the CP2K parameter data files (BASIS_SET, POTENTIALS, etc.)"
   ]
  },
  {
   "cell_type": "code",
   "execution_count": 1,
   "metadata": {},
   "outputs": [],
   "source": [
    "# TO BE REMOVED!!!\n",
    "\n",
    "%load_ext autoreload\n",
    "%autoreload 2"
   ]
  },
  {
   "cell_type": "code",
   "execution_count": 2,
   "metadata": {},
   "outputs": [
    {
     "data": {
      "application/vnd.jupyter.widget-view+json": {
       "model_id": "34672059e644467c825460f87ee01a9c",
       "version_major": 2,
       "version_minor": 0
      },
      "text/plain": []
     },
     "metadata": {},
     "output_type": "display_data"
    }
   ],
   "source": [
    "import os\n",
    "import plotly\n",
    "import plotly.graph_objs as go\n",
    "import nglview\n",
    "import ipywidgets\n",
    "\n",
    "pdbOrigin = \"1ake\" # Chain A\n",
    "pdbTarget = \"4ake\" # Chain A"
   ]
  },
  {
   "cell_type": "code",
   "execution_count": 3,
   "metadata": {},
   "outputs": [
    {
     "name": "stdout",
     "output_type": "stream",
     "text": [
      "2022-09-20 17:15:59,239 [MainThread  ] [INFO ]  Executing biobb_io.api.pdb Version: 3.8.0\n",
      "2022-09-20 17:15:59,240 [MainThread  ] [INFO ]  Downloading 1ake from: https://www.ebi.ac.uk/pdbe/entry-files/download/pdb1ake.ent\n",
      "2022-09-20 17:15:59,741 [MainThread  ] [INFO ]  Writting pdb to: 1ake.pdb\n",
      "2022-09-20 17:15:59,764 [MainThread  ] [INFO ]  Executing biobb_io.api.pdb Version: 3.8.0\n",
      "2022-09-20 17:15:59,765 [MainThread  ] [INFO ]  Downloading 4ake from: https://www.ebi.ac.uk/pdbe/entry-files/download/pdb4ake.ent\n",
      "2022-09-20 17:16:00,203 [MainThread  ] [INFO ]  Writting pdb to: 4ake.pdb\n"
     ]
    },
    {
     "data": {
      "text/plain": [
       "0"
      ]
     },
     "execution_count": 3,
     "metadata": {},
     "output_type": "execute_result"
    }
   ],
   "source": [
    "# Import module\n",
    "from biobb_io.api.pdb import pdb\n",
    "\n",
    "# Create properties dict and inputs/outputs\n",
    "originPDB = pdbOrigin+'.pdb'\n",
    "targetPDB = pdbTarget+'.pdb'\n",
    "\n",
    "prop_origin = {\n",
    "    'pdb_code': pdbOrigin,\n",
    "    'filter': False\n",
    "}\n",
    "\n",
    "prop_target = {\n",
    "    'pdb_code': pdbTarget,\n",
    "    'filter': False\n",
    "}\n",
    "\n",
    "# Launch bb for Origin PDB\n",
    "pdb(output_pdb_path=originPDB,\n",
    "    properties=prop_origin)\n",
    "\n",
    "# Launch bb for Target PDB\n",
    "pdb(output_pdb_path=targetPDB,\n",
    "    properties=prop_target)"
   ]
  },
  {
   "cell_type": "code",
   "execution_count": 4,
   "metadata": {},
   "outputs": [
    {
     "data": {
      "application/vnd.jupyter.widget-view+json": {
       "model_id": "add9288bb1ef45b0a4a416cfb1805c42",
       "version_major": 2,
       "version_minor": 0
      },
      "text/plain": [
       "HBox(children=(NGLWidget(), NGLWidget()))"
      ]
     },
     "metadata": {},
     "output_type": "display_data"
    }
   ],
   "source": [
    "# Show different structures generated (for comparison)\n",
    "\n",
    "view1 = nglview.show_structure_file(originPDB)\n",
    "#view1.add_representation(repr_type='ball+stick')\n",
    "view1._remote_call('setSize', target='Widget', args=['400px','400px'])\n",
    "view1.camera='orthographic'\n",
    "view1\n",
    "view2 = nglview.show_structure_file(targetPDB)\n",
    "#view2.add_representation(repr_type='ball+stick')\n",
    "view2._remote_call('setSize', target='Widget', args=['400px','400px'])\n",
    "view2.camera='orthographic'\n",
    "view2\n",
    "ipywidgets.HBox([view1, view2])"
   ]
  },
  {
   "cell_type": "code",
   "execution_count": 5,
   "metadata": {
    "scrolled": true
   },
   "outputs": [
    {
     "name": "stdout",
     "output_type": "stream",
     "text": [
      "2022-09-20 17:16:02,488 [MainThread  ] [INFO ]  Executing biobb_structure_utils.utils.extract_chain Version: 3.8.0\n",
      "2022-09-20 17:16:02,489 [MainThread  ] [INFO ]  Selected Chains: A\n",
      "2022-09-20 17:16:02,489 [MainThread  ] [INFO ]  check_structure -i /Users/hospital/BioBB/Notebooks_dev/biobb_wf_godmd/biobb_wf_godmd/notebooks/1ake.pdb -o 1ake.chains.pdb --force_save chains --select A\n",
      "\n",
      "2022-09-20 17:16:04,295 [MainThread  ] [INFO ]  Exit code 0\n",
      "\n",
      "2022-09-20 17:16:04,296 [MainThread  ] [INFO ]  ================================================================================\n",
      "=                   BioBB structure checking utility v3.10.1                   =\n",
      "=            P. Andrio, A. Hospital, G. Bayarri, J.L. Gelpi 2018-22            =\n",
      "================================================================================\n",
      "\n",
      "Warning: sequence features only available in mmCIF format or with external fasta input\n",
      "Structure /Users/hospital/BioBB/Notebooks_dev/biobb_wf_godmd/biobb_wf_godmd/notebooks/1ake.pdb loaded\n",
      " Title: structure of the complex between adenylate kinase from escherichia coli and the inhibitor ap5a refined at 1.9 angstroms resolution: a model for a catalytic transition state\n",
      " Experimental method: x-ray diffraction\n",
      " Keywords: transferase(phosphotransferase)\n",
      " Resolution (A): 2.0\n",
      "\n",
      " Num. models: 1\n",
      " Num. chains: 2 (A: Protein, B: Protein)\n",
      " Num. residues:  808\n",
      " Num. residues with ins. codes:  0\n",
      " Num. residues with H atoms: 0\n",
      " Num. HETATM residues:  380\n",
      " Num. ligands or modified residues:  2\n",
      " Num. water mol.:  378\n",
      " Num. atoms:  3804\n",
      "Small mol ligands found\n",
      "AP5 A215\n",
      "AP5 B215\n",
      "\n",
      "Running chains. Options: --select A\n",
      "2 Chain(s) detected\n",
      " A: Protein\n",
      " B: Protein\n",
      "Selecting chain(s) A\n",
      "Final Num. models: 1\n",
      "Final Num. chains: 1 (A: Protein)\n",
      "Final Num. residues:  456\n",
      "Final Num. residues with ins. codes:  0\n",
      "Final Num. residues with H atoms: 0\n",
      "Final Num. HETATM residues:  242\n",
      "Final Num. ligands or modified residues:  1\n",
      "Final Num. water mol.:  241\n",
      "Final Num. atoms:  1954\n",
      "Small mol ligands found\n",
      "AP5 A215\n",
      "Structure saved on 1ake.chains.pdb\n",
      "\n",
      "2022-09-20 17:16:04,297 [MainThread  ] [INFO ]  Removed: []\n",
      "2022-09-20 17:16:04,303 [MainThread  ] [INFO ]  Executing biobb_structure_utils.utils.extract_chain Version: 3.8.0\n",
      "2022-09-20 17:16:04,304 [MainThread  ] [INFO ]  Selected Chains: A\n",
      "2022-09-20 17:16:04,304 [MainThread  ] [INFO ]  check_structure -i /Users/hospital/BioBB/Notebooks_dev/biobb_wf_godmd/biobb_wf_godmd/notebooks/4ake.pdb -o 4ake.chains.pdb --force_save chains --select A\n",
      "\n",
      "2022-09-20 17:16:04,717 [MainThread  ] [INFO ]  Exit code 0\n",
      "\n",
      "2022-09-20 17:16:04,718 [MainThread  ] [INFO ]  ================================================================================\n",
      "=                   BioBB structure checking utility v3.10.1                   =\n",
      "=            P. Andrio, A. Hospital, G. Bayarri, J.L. Gelpi 2018-22            =\n",
      "================================================================================\n",
      "\n",
      "Warning: sequence features only available in mmCIF format or with external fasta input\n",
      "Structure /Users/hospital/BioBB/Notebooks_dev/biobb_wf_godmd/biobb_wf_godmd/notebooks/4ake.pdb loaded\n",
      " Title: adenylate kinase\n",
      " Experimental method: x-ray diffraction\n",
      " Keywords: nucleoside monophosphate kinase, atp:amp phosphotransferase, myokinase\n",
      " Resolution (A): 2.2\n",
      "\n",
      " Num. models: 1\n",
      " Num. chains: 2 (A: Protein, B: Protein)\n",
      " Num. residues:  575\n",
      " Num. residues with ins. codes:  0\n",
      " Num. residues with H atoms: 0\n",
      " Num. HETATM residues:  147\n",
      " Num. ligands or modified residues:  0\n",
      " Num. water mol.:  147\n",
      " Num. atoms:  3459\n",
      "\n",
      "Running chains. Options: --select A\n",
      "2 Chain(s) detected\n",
      " A: Protein\n",
      " B: Protein\n",
      "Selecting chain(s) A\n",
      "Final Num. models: 1\n",
      "Final Num. chains: 1 (A: Protein)\n",
      "Final Num. residues:  286\n",
      "Final Num. residues with ins. codes:  0\n",
      "Final Num. residues with H atoms: 0\n",
      "Final Num. HETATM residues:  72\n",
      "Final Num. ligands or modified residues:  0\n",
      "Final Num. water mol.:  72\n",
      "Final Num. atoms:  1728\n",
      "Structure saved on 4ake.chains.pdb\n",
      "\n",
      "2022-09-20 17:16:04,718 [MainThread  ] [INFO ]  Removed: []\n"
     ]
    },
    {
     "data": {
      "text/plain": [
       "0"
      ]
     },
     "execution_count": 5,
     "metadata": {},
     "output_type": "execute_result"
    }
   ],
   "source": [
    "from biobb_structure_utils.utils.extract_chain import extract_chain\n",
    "\n",
    "originPDB_chain = pdbOrigin + \".chains.pdb\"\n",
    "targetPDB_chain = pdbTarget + \".chains.pdb\"\n",
    "\n",
    "prop = {\n",
    "    'chains': [ 'A' ]\n",
    "}\n",
    "\n",
    "# Launch bb for Origin PDB\n",
    "extract_chain(\n",
    "    input_structure_path=originPDB,\n",
    "    output_structure_path=originPDB_chain,\n",
    "    properties=prop\n",
    ")\n",
    "\n",
    "# Launch bb for Target PDB\n",
    "extract_chain(\n",
    "    input_structure_path=targetPDB,\n",
    "    output_structure_path=targetPDB_chain,\n",
    "    properties=prop\n",
    ")"
   ]
  },
  {
   "cell_type": "code",
   "execution_count": 6,
   "metadata": {},
   "outputs": [
    {
     "name": "stdout",
     "output_type": "stream",
     "text": [
      "2022-09-20 17:16:04,778 [MainThread  ] [INFO ]  Executing biobb_structure_utils.utils.remove_molecules Version: 3.8.0\n",
      "2022-09-20 17:16:04,833 [MainThread  ] [INFO ]  Writting pdb to: 1ake.chains.nolig.pdb\n",
      "2022-09-20 17:16:04,834 [MainThread  ] [INFO ]  Removed: []\n"
     ]
    },
    {
     "data": {
      "text/plain": [
       "0"
      ]
     },
     "execution_count": 6,
     "metadata": {},
     "output_type": "execute_result"
    }
   ],
   "source": [
    "from biobb_structure_utils.utils.remove_molecules import remove_molecules\n",
    "\n",
    "originPDB_chain_nolig = pdbOrigin + \".chains.nolig.pdb\"\n",
    "\n",
    "prop = {\n",
    "    'molecules': [\n",
    "        {\n",
    "            'name' : 'AP5'\n",
    "        }\n",
    "    ]\n",
    "}\n",
    "remove_molecules(input_structure_path=originPDB_chain,\n",
    "                 output_molecules_path=originPDB_chain_nolig,\n",
    "                 properties=prop)\n"
   ]
  },
  {
   "cell_type": "code",
   "execution_count": 7,
   "metadata": {},
   "outputs": [
    {
     "data": {
      "application/vnd.jupyter.widget-view+json": {
       "model_id": "a34d0e43832446f38135b8f5fad711ce",
       "version_major": 2,
       "version_minor": 0
      },
      "text/plain": [
       "HBox(children=(NGLWidget(), NGLWidget()))"
      ]
     },
     "metadata": {},
     "output_type": "display_data"
    }
   ],
   "source": [
    "# Show different structures generated (for comparison)\n",
    "\n",
    "view1 = nglview.show_structure_file(originPDB_chain_nolig)\n",
    "#view1.add_representation(repr_type='ball+stick')\n",
    "view1._remote_call('setSize', target='Widget', args=['400px','400px'])\n",
    "view1.camera='orthographic'\n",
    "view1\n",
    "view2 = nglview.show_structure_file(targetPDB_chain)\n",
    "#view2.add_representation(repr_type='ball+stick')\n",
    "view2._remote_call('setSize', target='Widget', args=['400px','400px'])\n",
    "view2.camera='orthographic'\n",
    "view2\n",
    "ipywidgets.HBox([view1, view2])"
   ]
  },
  {
   "cell_type": "markdown",
   "metadata": {},
   "source": [
    "<a id=\"mapping\"></a>\n",
    "## Preparing\n",
    "Preparing the **structures** and the **mapping** needed\n",
    " "
   ]
  },
  {
   "cell_type": "code",
   "execution_count": 8,
   "metadata": {
    "scrolled": true
   },
   "outputs": [
    {
     "name": "stdout",
     "output_type": "stream",
     "text": [
      "2022-09-20 17:16:07,705 [MainThread  ] [INFO ]  Creating 9ee41bdb-1bb5-4d39-a840-59ad3b96ba24 temporary folder\n",
      "2022-09-20 17:16:07,707 [MainThread  ] [INFO ]  water -auto -outfile 9ee41bdb-1bb5-4d39-a840-59ad3b96ba24/water_align.out -asequence 9ee41bdb-1bb5-4d39-a840-59ad3b96ba24/1ake.chains.nolig.pdb.fa -bsequence 9ee41bdb-1bb5-4d39-a840-59ad3b96ba24/4ake.chains.pdb.fa -gapopen 12.0 -gapextend 2 -datafile EPAM250 -aformat markx10\n",
      "\n",
      "2022-09-20 17:16:11,282 [MainThread  ] [INFO ]  Exit code 0\n",
      "\n",
      "2022-09-20 17:16:11,285 [MainThread  ] [INFO ]  Removed: ['9ee41bdb-1bb5-4d39-a840-59ad3b96ba24']\n"
     ]
    },
    {
     "data": {
      "text/plain": [
       "0"
      ]
     },
     "execution_count": 8,
     "metadata": {},
     "output_type": "execute_result"
    }
   ],
   "source": [
    "from biobb_godmd.godmd.godmd_prep import godmd_prep\n",
    "\n",
    "originALN = pdbOrigin + \".aln\"\n",
    "targetALN = pdbTarget + \".aln\"\n",
    "\n",
    "prop = {\n",
    "    'gapopen' : '12.0',\n",
    "    'gapextend' : '2',\n",
    "    'remove_tmp': True\n",
    "}\n",
    "\n",
    "godmd_prep( input_pdb_orig_path=originPDB_chain_nolig,\n",
    "            input_pdb_target_path=targetPDB_chain,\n",
    "            output_aln_orig_path=originALN,\n",
    "            output_aln_target_path=targetALN,\n",
    "            properties=prop)"
   ]
  },
  {
   "cell_type": "markdown",
   "metadata": {},
   "source": [
    "<a id=\"godmd\"></a>\n",
    "## Running GOdMD \n",
    "Computing the **conformational transition** \n",
    " "
   ]
  },
  {
   "cell_type": "code",
   "execution_count": 9,
   "metadata": {},
   "outputs": [
    {
     "name": "stdout",
     "output_type": "stream",
     "text": [
      "2022-09-20 17:16:11,994 [MainThread  ] [INFO ]  Creating 7859a500-ae98-4d05-aa17-8362b56cda29 temporary folder\n",
      "2022-09-20 17:16:11,995 [MainThread  ] [INFO ]  discrete -i 7859a500-ae98-4d05-aa17-8362b56cda29/godmd.in -pdbin 1ake.chains.nolig.pdb -pdbtarg 4ake.chains.pdb -p1 1ake.aln -p2 4ake.aln -o 1ake-4ake.godmd.log -ener 1ake-4ake.godmd.ene.out -trj 1ake-4ake.godmd.mdcrd\n",
      "\n",
      "2022-09-20 17:16:23,294 [MainThread  ] [INFO ]  Exit code 0\n",
      "\n"
     ]
    },
    {
     "data": {
      "text/plain": [
       "0"
      ]
     },
     "execution_count": 9,
     "metadata": {},
     "output_type": "execute_result"
    }
   ],
   "source": [
    "from biobb_godmd.godmd.godmd_run import godmd_run\n",
    "\n",
    "godmd_log = pdbOrigin + \"-\" + pdbTarget + \".godmd.log\"\n",
    "godmd_trj = pdbOrigin + \"-\" + pdbTarget + \".godmd.mdcrd\"\n",
    "godmd_ene = pdbOrigin + \"-\" + pdbTarget + \".godmd.ene.out\"\n",
    "\n",
    "prop = {\n",
    "    'remove_tmp': False,\n",
    "    'godmdin':{\n",
    "        'temp' : 400\n",
    "    }\n",
    "}\n",
    "\n",
    "godmd_run(   input_pdb_orig_path=originPDB_chain_nolig,\n",
    "             input_pdb_target_path=targetPDB_chain,\n",
    "             input_aln_orig_path=originALN,\n",
    "             input_aln_target_path=targetALN,\n",
    "             output_log_path=godmd_log,\n",
    "             output_ene_path=godmd_ene,\n",
    "             output_trj_path=godmd_trj,\n",
    "             properties=prop)\n"
   ]
  },
  {
   "cell_type": "code",
   "execution_count": 10,
   "metadata": {
    "scrolled": true
   },
   "outputs": [
    {
     "name": "stdout",
     "output_type": "stream",
     "text": [
      "2022-09-20 17:16:23,894 [MainThread  ] [INFO ]  Executing biobb_analysis.ambertools.cpptraj_convert Version: 3.8.0\n",
      "2022-09-20 17:16:23,896 [MainThread  ] [INFO ]  cpptraj -i 6c723a1c-3452-40a4-ada1-b19e82738757/instructions.in\n",
      "\n",
      "2022-09-20 17:16:27,585 [MainThread  ] [INFO ]  Exit code 0\n",
      "\n",
      "2022-09-20 17:16:27,586 [MainThread  ] [INFO ]  \n",
      "CPPTRAJ: Trajectory Analysis. V6.4.4 (AmberTools)\n",
      "    ___  ___  ___  ___\n",
      "     | \\/ | \\/ | \\/ | \n",
      "    _|_/\\_|_/\\_|_/\\_|_\n",
      "\n",
      "| Date/time: 09/20/22 17:16:27\n",
      "| Available memory: 2.717 GB\n",
      "\n",
      "INPUT: Reading input from '6c723a1c-3452-40a4-ada1-b19e82738757/instructions.in'\n",
      "  [parm reference.pdb]\n",
      "\tReading 'reference.pdb' as PDB File\n",
      "\tReading bond info from CONECT records.\n",
      "\tNot reading bond info from LINK records.\n",
      "Warning: PDB line length is short (55 chars, expected 80).\n",
      "\tDetermining bond info from distances.\n",
      "Warning: Determining bond length parameters from element types for 'reference.pdb'.\n",
      "  [trajin 1ake-4ake.godmd.mdcrd 1 -1 1]\n",
      "\tReading '1ake-4ake.godmd.mdcrd' as Amber Trajectory\n",
      "  [strip !:*]\n",
      "    STRIP: Stripping atoms in mask [!:*]\n",
      "  [trajout 1ake-4ake.godmd.dcd dcd]\n",
      "\tWriting '1ake-4ake.godmd.dcd' as Charmm DCD\n",
      "---------- RUN BEGIN -------------------------------------------------\n",
      "\n",
      "PARAMETER FILES (1 total):\n",
      " 0: reference.pdb, 214 atoms, 214 res, box: None, 214 mol\n",
      "\n",
      "INPUT TRAJECTORIES (1 total):\n",
      " 0: '1ake-4ake.godmd.mdcrd' is an AMBER trajectory, Parm reference.pdb (reading 100 of 100)\n",
      "  Coordinate processing will occur on 100 frames.\n",
      "\n",
      "OUTPUT TRAJECTORIES (1 total):\n",
      "  '1ake-4ake.godmd.dcd' (100 frames) is a CHARMM DCD file (coords) Little Endian 32 bit\n",
      "\n",
      "BEGIN TRAJECTORY PROCESSING:\n",
      ".....................................................\n",
      "ACTION SETUP FOR PARM 'reference.pdb' (1 actions):\n",
      "  0: [strip !:*]\n",
      "\tStripping 0 atoms.\n",
      "Warning: No atoms to strip. Skipping.\n",
      "Warning: Setup incomplete for [strip]: Skipping\n",
      ".....................................................\n",
      "ACTIVE OUTPUT TRAJECTORIES (1):\n",
      "  1ake-4ake.godmd.dcd (coordinates)\n",
      "----- 1ake-4ake.godmd.mdcrd (1-100, 1) -----\n",
      " 0% 10% 20% 30% 40% 51% 61% 71% 81% 91% 100% Complete.\n",
      "\n",
      "Read 100 frames and processed 100 frames.\n",
      "TIME: Avg. throughput= 27831.8954 frames / second.\n",
      "\n",
      "ACTION OUTPUT:\n",
      "TIME: Analyses took 0.0000 seconds.\n",
      "\n",
      "RUN TIMING:\n",
      "TIME:\t\tInit               : 0.0000 s (  0.48%)\n",
      "TIME:\t\tTrajectory Process : 0.0036 s ( 96.02%)\n",
      "TIME:\t\tAction Post        : 0.0000 s (  0.03%)\n",
      "TIME:\t\tAnalysis           : 0.0000 s (  0.00%)\n",
      "TIME:\t\tData File Write    : 0.0000 s (  0.05%)\n",
      "TIME:\t\tOther              : 0.0001 s (  0.03%)\n",
      "TIME:\tRun Total 0.0037 s\n",
      "---------- RUN END ---------------------------------------------------\n",
      "TIME: Total execution time: 0.1048 seconds.\n",
      "--------------------------------------------------------------------------------\n",
      "To cite CPPTRAJ use:\n",
      "Daniel R. Roe and Thomas E. Cheatham, III, \"PTRAJ and CPPTRAJ: Software for\n",
      "  Processing and Analysis of Molecular Dynamics Trajectory Data\". J. Chem.\n",
      "  Theory Comput., 2013, 9 (7), pp 3084-3095.\n",
      "\n",
      "\n",
      "2022-09-20 17:16:27,587 [MainThread  ] [INFO ]  Removed: [PurePosixPath('6c723a1c-3452-40a4-ada1-b19e82738757')]\n"
     ]
    },
    {
     "data": {
      "text/plain": [
       "0"
      ]
     },
     "execution_count": 10,
     "metadata": {},
     "output_type": "execute_result"
    }
   ],
   "source": [
    "from biobb_analysis.ambertools.cpptraj_convert import cpptraj_convert\n",
    "\n",
    "godmd_trj_dcd = pdbOrigin + \"-\" + pdbTarget + \".godmd.dcd\"\n",
    "reference_pdb = \"reference.pdb\"\n",
    "\n",
    "prop = {\n",
    "    'format': 'dcd'\n",
    "}\n",
    "\n",
    "cpptraj_convert(input_top_path=reference_pdb,\n",
    "                input_traj_path=godmd_trj,\n",
    "                output_cpptraj_path=godmd_trj_dcd,\n",
    "                properties=prop)\n"
   ]
  },
  {
   "cell_type": "code",
   "execution_count": 11,
   "metadata": {
    "scrolled": false
   },
   "outputs": [
    {
     "data": {
      "application/vnd.jupyter.widget-view+json": {
       "model_id": "3c7d59a1d3a2417eb85e949159413dc4",
       "version_major": 2,
       "version_minor": 0
      },
      "text/plain": [
       "NGLWidget(max_frame=99)"
      ]
     },
     "metadata": {},
     "output_type": "display_data"
    },
    {
     "data": {
      "application/vnd.jupyter.widget-view+json": {
       "model_id": "4832bd9d826e42d0991864982b8920c9",
       "version_major": 2,
       "version_minor": 0
      },
      "text/plain": [
       "Tab(children=(Box(children=(Box(children=(Box(children=(Label(value='step'), IntSlider(value=1, min=-100)), la…"
      ]
     },
     "metadata": {},
     "output_type": "display_data"
    }
   ],
   "source": [
    "# Show trajectory\n",
    "\n",
    "view = nglview.show_simpletraj(nglview.SimpletrajTrajectory(godmd_trj_dcd, reference_pdb), gui=True)\n",
    "\n",
    "view.add_representation(repr_type='tube', colorScheme = 'atomindex')\n",
    "\n",
    "# Origin Structure\n",
    "b = view.add_component(originPDB_chain_nolig)\n",
    "b.clear_representations()\n",
    "b.add_representation(repr_type='tube',\n",
    "                        opacity=.4,\n",
    "                        color='blue')\n",
    "\n",
    "# Target Structure\n",
    "c = view.add_component(targetPDB_chain)\n",
    "c.clear_representations()\n",
    "c.add_representation(repr_type='tube', \n",
    "                       opacity=.4,\n",
    "                        color='red')\n",
    "\n",
    "# Align origin and target\n",
    "code = \"\"\"\n",
    "var stage = this.stage;\n",
    "var clist_len = stage.compList.length;\n",
    "var i = 0;\n",
    "var s = [];\n",
    "for(i = 0; i <= clist_len; i++){\n",
    "    if(stage.compList[i] != undefined && stage.compList[i].structure != undefined) {        \n",
    "       s.push(stage.compList[i])\n",
    "    }\n",
    "}\n",
    "NGL.superpose(s[1].structure, s[2].structure, true, \".CA\")\n",
    "s[ 1 ].updateRepresentations({ position: true })\n",
    "s[ 1 ].autoView()\n",
    "\"\"\"\n",
    "\n",
    "view._execute_js_code(code)\n",
    "\n",
    "view._remote_call('setSize', target='Widget', args=['800px','600px'])\n",
    "view"
   ]
  },
  {
   "cell_type": "markdown",
   "metadata": {},
   "source": [
    "***\n",
    "<a id=\"questions\"></a>\n",
    "\n",
    "## Questions & Comments\n",
    "\n",
    "Questions, issues, suggestions and comments are really welcome!\n",
    "\n",
    "* GitHub issues:\n",
    "    * [https://github.com/bioexcel/biobb](https://github.com/bioexcel/biobb)\n",
    "\n",
    "* BioExcel forum:\n",
    "    * [https://ask.bioexcel.eu/c/BioExcel-Building-Blocks-library](https://ask.bioexcel.eu/c/BioExcel-Building-Blocks-library)\n"
   ]
  }
 ],
 "metadata": {
  "kernelspec": {
   "display_name": "Python 3 (ipykernel)",
   "language": "python",
   "name": "python3"
  },
  "language_info": {
   "codemirror_mode": {
    "name": "ipython",
    "version": 3
   },
   "file_extension": ".py",
   "mimetype": "text/x-python",
   "name": "python",
   "nbconvert_exporter": "python",
   "pygments_lexer": "ipython3",
   "version": "3.9.12"
  }
 },
 "nbformat": 4,
 "nbformat_minor": 2
}
