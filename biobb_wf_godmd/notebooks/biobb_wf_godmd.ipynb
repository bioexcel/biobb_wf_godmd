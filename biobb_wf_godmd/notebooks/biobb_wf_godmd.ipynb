{
 "cells": [
  {
   "cell_type": "markdown",
   "metadata": {},
   "source": [
    "# Protein Conformational Transitions calculations tutorial using BioExcel Building Blocks (biobb) and GOdMD\n",
    "\n",
    "***\n",
    "This tutorial aims to illustrate the process of computing a **conformational transition** between two known **structural conformations** of a protein, step by step, using the **BioExcel Building Blocks library (biobb)**. \n",
    "\n",
    "Examples shown are the calculation of the conformational transition for the **Adenylate Kinase** protein, from the **closed state** (PDB Code [1AKE](https://www.rcsb.org/structure/1AKE)) to the **open state** (PDB Code [4AKE](https://www.rcsb.org/structure/4AKE)). **Adenylate Kinases** are **phosphotransferase enzymes** that catalyze the interconversion of the various **adenosine phosphates** (ATP, ADP, and AMP), and are known to undergo large **conformational changes** during their **catalytic cycle**.\n",
    "\n",
    "The code wrapped is the ***GOdMD*** method, developed in the **[Molecular Modeling and Bioinformatics](https://mmb.irbbarcelona.org/www/) group** (IRB Barcelona). **GOdMD** determines pathways for **conformational transitions** in macromolecules using **discrete molecular dynamics** and **biasing techniques** based on a combination of **essential dynamics** and **Maxwell-Demon sampling techniques**. A web implementation of the method can be found here: https://mmb.irbbarcelona.org/GOdMD/index.php\n",
    "\n",
    "**Exploration of conformational transition pathways from coarse-grained simulations.**<br>\n",
    "*Sfriso P, Hospital A, Emperador A, Orozco M.*<br>\n",
    "*Bioinformatics, 129(16):1980-6.*<br>\n",
    "*Available at: https://doi.org/10.1093/bioinformatics/btt324*\n",
    "\n",
    "***\n",
    "\n",
    "## Settings\n",
    "\n",
    "### Biobb modules used\n",
    "\n",
    " - [biobb_godmd](https://github.com/bioexcel/biobb_godmd): Tools to compute protein conformational transitions using GOdMD.\n",
    " - [biobb_io](https://github.com/bioexcel/biobb_io): Tools to fetch biomolecular data from public databases.\n",
    " - [biobb_structure_utils](https://github.com/bioexcel/biobb_structure_utils): Tools to modify or extract information from a PDB structure.\n",
    " - [biobb_analysis](https://github.com/bioexcel/biobb_analysis): Tools to analyse Molecular Dynamics trajectories.\n",
    "  \n",
    "### Auxiliar libraries used\n",
    "\n",
    " - [nb_conda_kernels](https://github.com/Anaconda-Platform/nb_conda_kernels): Enables a Jupyter Notebook or JupyterLab application in one conda environment to access kernels for Python, R, and other languages found in other environments.\n",
    " - [ipywidgets](https://github.com/jupyter-widgets/ipywidgets): Interactive HTML widgets for Jupyter notebooks and the IPython kernel.\n",
    " - [nglview](https://nglviewer.org/#nglview): Jupyter/IPython widget to interactively view molecular structures and trajectories in notebooks.\n",
    " - [plotly](https://plotly.com/python/): Python Open Source Graphing Library. \n",
    " - [simpletraj](https://github.com/arose/simpletraj): Lightweight coordinate-only trajectory reader based on code from GROMACS, MDAnalysis and VMD.\n",
    "\n",
    "\n",
    "### Conda Installation and Launch\n",
    "\n",
    "```console\n",
    "git clone https://github.com/bioexcel/biobb_wf_godmd.git\n",
    "cd biobb_wf_godmd\n",
    "conda env create -f conda_env/environment.yml\n",
    "conda activate biobb_wf_godmd\n",
    "jupyter-nbextension enable --py --user widgetsnbextension\n",
    "jupyter-notebook biobb_wf_godmd/notebooks/biobb_wf_godmd.ipynb\n",
    "  ``` \n",
    "\n",
    "***\n",
    "## Pipeline steps\n",
    " 1. [Input Parameters](#input)\n",
    " 2. [Fetching Structures](#fetch)\n",
    " 3. [Preparing Structures](#preparing)\n",
    " 3. [Residue Mapping](#mapping)\n",
    " 4. [Conformational Transition](#godmd)\n",
    " 5. [Transition Visualization](#trajectory)\n",
    " 6. [Questions & Comments](#questions)\n",
    " \n",
    "***\n",
    "\n",
    "<img src=\"https://bioexcel.eu/wp-content/uploads/2019/04/Bioexcell_logo_1080px_transp.png\" alt=\"Bioexcel2 logo\" width=\"400\" >\n",
    "\n",
    "***"
   ]
  },
  {
   "cell_type": "markdown",
   "metadata": {},
   "source": [
    "<a id=\"input\"></a>\n",
    "## Input parameters\n",
    "**Input parameters** needed:\n",
    " - **Auxiliar libraries**: Libraries to be used in the workflow are imported once at the beginning\n",
    " \n",
    " \n",
    " - **pdbOrigin**: PDB code for the origin structure (e.g. 1AKE)\n",
    " - **chainOrigin**: Chain for the origin structure (e.g. A)\n",
    " - **ligandOrigin**: Ligand (if present) for the origin structure (e.g. AP5) \n",
    " \n",
    " \n",
    " - **pdbTarget**: PDB code for the target structure (e.g. 4AKE)\n",
    " - **chainTarget**: Chain for the target structure (e.g. A)\n",
    " - **ligandTarget**: Ligand (if present) for the target structure (e.g. None)\n"
   ]
  },
  {
   "cell_type": "code",
   "execution_count": null,
   "metadata": {},
   "outputs": [],
   "source": [
    "import os\n",
    "import plotly\n",
    "import plotly.graph_objs as go\n",
    "import nglview\n",
    "import ipywidgets\n",
    "\n",
    "# Adenylate Kinase (ADK)\n",
    "pdbOrigin = \"1ake\" \n",
    "chainOrigin = \"A\"\n",
    "ligandOrigin = \"AP5\"\n",
    "\n",
    "pdbTarget = \"4ake\" \n",
    "chainTarget = \"A\"\n",
    "ligandTarget = None\n",
    "\n",
    "# Other Examples (taken from https://mmb.irbbarcelona.org/TransAtlas/)\n",
    "\n",
    "# Estrogen Receptor Alpha (ERα)\n",
    "# pdbOrigin = \"1a52\" \n",
    "# pdbTarget = \"3dt3\" \n",
    "# chainOrigin = \"A\"\n",
    "# chainTarget = \"B\"\n",
    "# ligandOrigin = \"EST\"\n",
    "# ligandTarget = \"369\"\n",
    "\n",
    "# Calmodulin (CaM)\n",
    "# pdbOrigin = \"1deg\" \n",
    "# pdbTarget = \"2f2o\" \n",
    "# chainOrigin = \"A\"\n",
    "# chainTarget = \"A\"\n",
    "# ligandOrigin = None\n",
    "# ligandTarget = None"
   ]
  },
  {
   "cell_type": "markdown",
   "metadata": {},
   "source": [
    "<a id=\"fetch\"></a>\n",
    "***\n",
    "## Fetching PDB structures\n",
    "Downloading **PDB structures** with the origin and target **protein molecules** from the RCSB PDB database.<br>\n",
    "Alternatively, **PDB files** can be used as starting structures. <br>\n",
    "***\n",
    "**Building Blocks** used:\n",
    " - [Pdb](https://biobb-io.readthedocs.io/en/latest/api.html#module-api.pdb) from **biobb_io.api.pdb**\n",
    "***"
   ]
  },
  {
   "cell_type": "code",
   "execution_count": null,
   "metadata": {},
   "outputs": [],
   "source": [
    "# Import module\n",
    "from biobb_io.api.pdb import pdb\n",
    "\n",
    "# Create properties dict and inputs/outputs\n",
    "originPDB = pdbOrigin+'.pdb'\n",
    "targetPDB = pdbTarget+'.pdb'\n",
    "\n",
    "prop_origin = {\n",
    "    'pdb_code': pdbOrigin,\n",
    "    'filter': False\n",
    "}\n",
    "\n",
    "prop_target = {\n",
    "    'pdb_code': pdbTarget,\n",
    "    'filter': False\n",
    "}\n",
    "\n",
    "# Launch bb for Origin PDB\n",
    "pdb(output_pdb_path=originPDB,\n",
    "    properties=prop_origin)\n",
    "\n",
    "# Launch bb for Target PDB\n",
    "pdb(output_pdb_path=targetPDB,\n",
    "    properties=prop_target)"
   ]
  },
  {
   "cell_type": "markdown",
   "metadata": {},
   "source": [
    "<a id=\"vis3D\"></a>\n",
    "### Visualizing 3D structures\n",
    "Visualizing the downloaded/given **PDB structures** using **NGL**: "
   ]
  },
  {
   "cell_type": "code",
   "execution_count": null,
   "metadata": {},
   "outputs": [],
   "source": [
    "# Show different structures (for comparison)\n",
    "\n",
    "view1 = nglview.show_structure_file(originPDB)\n",
    "#view1.add_representation(repr_type='ball+stick')\n",
    "view1._remote_call('setSize', target='Widget', args=['400px','400px'])\n",
    "view1.camera='orthographic'\n",
    "view1\n",
    "view2 = nglview.show_structure_file(targetPDB)\n",
    "#view2.add_representation(repr_type='ball+stick')\n",
    "view2._remote_call('setSize', target='Widget', args=['400px','400px'])\n",
    "view2.camera='orthographic'\n",
    "view2\n",
    "ipywidgets.HBox([view1, view2])"
   ]
  },
  {
   "cell_type": "markdown",
   "metadata": {},
   "source": [
    "<a id=\"preparing\"></a>\n",
    "***\n",
    "## Preparing the structures\n",
    "Preparing the **structures** to be used for the **conformational transition** calculation. \n",
    "- Extracting the interesting **chains** from the **PDB structures** (chain A in both cases).\n",
    "- Removing the **inhibitor** AP5A from the **closed conformation**. \n",
    "***\n",
    "**Building Blocks** used:\n",
    " - [extract_chain](https://biobb-structure-utils.readthedocs.io/en/stable/utils.html#module-utils.extract_chain) from **biobb_structure_utils.utils.extract_chain**\n",
    " - [remove_molecules](https://biobb-structure-utils.readthedocs.io/en/stable/utils.html#module-utils.remove_molecules) from **biobb_structure_utils.utils.remove_molecules**\n",
    " \n",
    "***"
   ]
  },
  {
   "cell_type": "markdown",
   "metadata": {},
   "source": [
    "Extracting the interesting **chains** from the **PDB structures** (chain A in both cases)."
   ]
  },
  {
   "cell_type": "code",
   "execution_count": null,
   "metadata": {
    "scrolled": true
   },
   "outputs": [],
   "source": [
    "from biobb_structure_utils.utils.extract_chain import extract_chain\n",
    "\n",
    "originPDB_chain = pdbOrigin + \".chains.pdb\"\n",
    "targetPDB_chain = pdbTarget + \".chains.pdb\"\n",
    "\n",
    "prop = {\n",
    "    'chains': [ chainOrigin ]\n",
    "}\n",
    "\n",
    "\n",
    "# Launch bb for Origin PDB\n",
    "extract_chain(\n",
    "    input_structure_path=originPDB,\n",
    "    output_structure_path=originPDB_chain,\n",
    "    properties=prop\n",
    ")\n",
    "\n",
    "prop = {\n",
    "    'chains': [ chainTarget ]\n",
    "}\n",
    "\n",
    "# Launch bb for Target PDB\n",
    "extract_chain(\n",
    "    input_structure_path=targetPDB,\n",
    "    output_structure_path=targetPDB_chain,\n",
    "    properties=prop\n",
    ")"
   ]
  },
  {
   "cell_type": "markdown",
   "metadata": {},
   "source": [
    "Removing the **inhibitor** AP5A from the **closed conformation**. "
   ]
  },
  {
   "cell_type": "code",
   "execution_count": null,
   "metadata": {},
   "outputs": [],
   "source": [
    "from biobb_structure_utils.utils.remove_molecules import remove_molecules\n",
    "\n",
    "originPDB_chain_nolig = pdbOrigin + \".chains.nolig.pdb\"\n",
    "targetPDB_chain_nolig = pdbTarget + \".chains.nolig.pdb\"\n",
    "\n",
    "if ligandOrigin:\n",
    "    prop = {\n",
    "        'molecules': [\n",
    "            {\n",
    "                'name' : ligandOrigin\n",
    "            }\n",
    "        ]\n",
    "    }\n",
    "    remove_molecules(input_structure_path=originPDB_chain,\n",
    "                     output_molecules_path=originPDB_chain_nolig,\n",
    "                     properties=prop)\n",
    "else:\n",
    "    originPDB_chain_nolig = originPDB_chain\n",
    "\n",
    "if ligandTarget:\n",
    "    prop = {\n",
    "        'molecules': [\n",
    "            {\n",
    "                'name' : ligandTarget\n",
    "            }\n",
    "        ]\n",
    "    }\n",
    "    remove_molecules(input_structure_path=targetPDB_chain,\n",
    "                     output_molecules_path=targetPDB_chain_nolig,\n",
    "                     properties=prop)\n",
    "else:\n",
    "    targetPDB_chain_nolig = targetPDB_chain\n"
   ]
  },
  {
   "cell_type": "markdown",
   "metadata": {},
   "source": [
    "<a id=\"vis3D_chains\"></a>\n",
    "### Visualizing 3D structures\n",
    "Visualizing the modified **PDB structures** using **NGL**: "
   ]
  },
  {
   "cell_type": "code",
   "execution_count": null,
   "metadata": {},
   "outputs": [],
   "source": [
    "# Show different structures generated (for comparison)\n",
    "\n",
    "view1 = nglview.show_structure_file(originPDB_chain_nolig)\n",
    "#view1.add_representation(repr_type='ball+stick')\n",
    "view1._remote_call('setSize', target='Widget', args=['400px','400px'])\n",
    "view1.camera='orthographic'\n",
    "view1\n",
    "view2 = nglview.show_structure_file(targetPDB_chain_nolig)\n",
    "#view2.add_representation(repr_type='ball+stick')\n",
    "view2._remote_call('setSize', target='Widget', args=['400px','400px'])\n",
    "view2.camera='orthographic'\n",
    "view2\n",
    "ipywidgets.HBox([view1, view2])"
   ]
  },
  {
   "cell_type": "markdown",
   "metadata": {},
   "source": [
    "<a id=\"mapping\"></a>\n",
    "***\n",
    "## Computing the mapping\n",
    "**GOdMD** works by moving the atoms from the position of the **origin structure** to the one in the **target structure**. For that, a one-to-one correspondance is needed. This step builds a couple of **mapping files** (.aln) from an internal **sequence alignment** (using ***[EMBOSS water](https://www.ebi.ac.uk/Tools/psa/emboss_water/)*** pairwise sequence alignment tool).     \n",
    "***\n",
    "**Building Blocks** used:\n",
    " - [godmd_prep](https://biobb-godmd.readthedocs.io/en/latest/godmd.html#module-godmd.godmd_prep) from **biobb_godmd.godmd.godmd_prep**\n",
    " \n",
    "***"
   ]
  },
  {
   "cell_type": "code",
   "execution_count": null,
   "metadata": {
    "scrolled": true
   },
   "outputs": [],
   "source": [
    "from biobb_godmd.godmd.godmd_prep import godmd_prep\n",
    "\n",
    "originALN = pdbOrigin + \".aln\"\n",
    "targetALN = pdbTarget + \".aln\"\n",
    "\n",
    "prop = {\n",
    "    'gapopen' : '12.0',\n",
    "    'gapextend' : '2'\n",
    "}\n",
    "\n",
    "godmd_prep( input_pdb_orig_path=originPDB_chain_nolig,\n",
    "            input_pdb_target_path=targetPDB_chain_nolig,\n",
    "            output_aln_orig_path=originALN,\n",
    "            output_aln_target_path=targetALN,\n",
    "            properties=prop)"
   ]
  },
  {
   "cell_type": "markdown",
   "metadata": {},
   "source": [
    "<a id=\"godmd\"></a>\n",
    "***\n",
    "## Running GOdMD \n",
    "Computing the **conformational transition**, from the **origin** to the **target** structure, using **GOdMD** and the **mappings** generated in the previous step. The output file is a **trajectory file** in **mdcrd** format.\n",
    "    \n",
    "***\n",
    "**Building Blocks** used:\n",
    " - [godmd_run](https://biobb-godmd.readthedocs.io/en/latest/godmd.html#module-godmd.godmd_run) from **biobb_godmd.godmd.godmd_run**\n",
    " \n",
    "***"
   ]
  },
  {
   "cell_type": "code",
   "execution_count": null,
   "metadata": {},
   "outputs": [],
   "source": [
    "from biobb_godmd.godmd.godmd_run import godmd_run\n",
    "\n",
    "godmd_log = pdbOrigin + \"-\" + pdbTarget + \".godmd.log\"\n",
    "godmd_trj = pdbOrigin + \"-\" + pdbTarget + \".godmd.mdcrd\"\n",
    "godmd_ene = pdbOrigin + \"-\" + pdbTarget + \".godmd.ene.out\"\n",
    "godmd_pdb = pdbOrigin + \"-\" + pdbTarget + \".godmd.pdb\"\n",
    "\n",
    "prop = {\n",
    "    'godmdin':{\n",
    "        'temp' : 400\n",
    "    }\n",
    "}\n",
    "\n",
    "godmd_run(   input_pdb_orig_path=originPDB_chain_nolig,\n",
    "             input_pdb_target_path=targetPDB_chain_nolig,\n",
    "             input_aln_orig_path=originALN,\n",
    "             input_aln_target_path=targetALN,\n",
    "             output_log_path=godmd_log,\n",
    "             output_ene_path=godmd_ene,\n",
    "             output_trj_path=godmd_trj,\n",
    "             output_pdb_path=godmd_pdb,\n",
    "             properties=prop)\n"
   ]
  },
  {
   "cell_type": "markdown",
   "metadata": {},
   "source": [
    "<a id=\"dcd\"></a>\n",
    "***\n",
    "## Converting trajectory to DCD (visualization)\n",
    "Converting the generated **GOdMD trajectory** from the **mdcrd** format to a **dcd** format, for the sake of visualization with **NGL** (see next cell).<br> <br>\n",
    "***\n",
    "**Building Blocks** used:\n",
    " - [cpptraj_convert](https://biobb-analysis.readthedocs.io/en/latest/ambertools.html#module-ambertools.cpptraj_convert) from **biobb_analysis.ambertools.cpptraj_convert**\n",
    "***"
   ]
  },
  {
   "cell_type": "code",
   "execution_count": null,
   "metadata": {
    "scrolled": true
   },
   "outputs": [],
   "source": [
    "from biobb_analysis.ambertools.cpptraj_convert import cpptraj_convert\n",
    "\n",
    "godmd_trj_dcd = pdbOrigin + \"-\" + pdbTarget + \".godmd.dcd\"\n",
    "\n",
    "prop = {\n",
    "    'format': 'dcd'\n",
    "}\n",
    "\n",
    "cpptraj_convert(input_top_path=godmd_pdb,\n",
    "                input_traj_path=godmd_trj,\n",
    "                output_cpptraj_path=godmd_trj_dcd,\n",
    "                properties=prop)\n"
   ]
  },
  {
   "cell_type": "markdown",
   "metadata": {},
   "source": [
    "***\n",
    "<a id=\"trajectory\"></a>\n",
    "## Visualizing trajectory\n",
    "Visualizing the **GOdMD** computed **conformational transition** using **NGL**. The scene shows the **origin** (tube, blue) and **target** (tube, red) structure for reference. \n",
    "\n",
    "***"
   ]
  },
  {
   "cell_type": "code",
   "execution_count": null,
   "metadata": {
    "scrolled": false
   },
   "outputs": [],
   "source": [
    "# Show trajectory\n",
    "\n",
    "view = nglview.show_simpletraj(nglview.SimpletrajTrajectory(godmd_trj_dcd, godmd_pdb), gui=True)\n",
    "\n",
    "view.add_representation(repr_type='tube', colorScheme = 'atomindex')\n",
    "\n",
    "# Origin Structure\n",
    "b = view.add_component(nglview.FileStructure(originPDB_chain_nolig))\n",
    "b.clear_representations()\n",
    "b.add_representation(repr_type='tube',\n",
    "                        opacity=.2,\n",
    "                        color='blue')\n",
    "\n",
    "# Target Structure\n",
    "c = view.add_component(nglview.FileStructure(targetPDB_chain_nolig))\n",
    "c.clear_representations()\n",
    "c.add_representation(repr_type='tube', \n",
    "                       opacity=.2,\n",
    "                        color='red')\n",
    "\n",
    "# Align origin and target\n",
    "code = \"\"\"\n",
    "var stage = this.stage;\n",
    "var clist_len = stage.compList.length;\n",
    "var i = 0;\n",
    "var s = [];\n",
    "for(i = 0; i <= clist_len; i++){\n",
    "    if(stage.compList[i] != undefined && stage.compList[i].structure != undefined) {        \n",
    "       s.push(stage.compList[i])\n",
    "    }\n",
    "}\n",
    "NGL.superpose(s[1].structure, s[2].structure, true, \".CA\")\n",
    "s[ 1 ].updateRepresentations({ position: true })\n",
    "s[ 1 ].autoView()\n",
    "\"\"\"\n",
    "\n",
    "view._execute_js_code(code)\n",
    "\n",
    "view._remote_call('setSize', target='Widget', args=['800px','600px'])\n",
    "view"
   ]
  },
  {
   "cell_type": "markdown",
   "metadata": {},
   "source": [
    "***\n",
    "<a id=\"questions\"></a>\n",
    "\n",
    "## Questions & Comments\n",
    "\n",
    "Questions, issues, suggestions and comments are really welcome!\n",
    "\n",
    "* GitHub issues:\n",
    "    * [https://github.com/bioexcel/biobb](https://github.com/bioexcel/biobb)\n",
    "\n",
    "* BioExcel forum:\n",
    "    * [https://ask.bioexcel.eu/c/BioExcel-Building-Blocks-library](https://ask.bioexcel.eu/c/BioExcel-Building-Blocks-library)\n"
   ]
  }
 ],
 "metadata": {
  "kernelspec": {
   "display_name": "Python 3 (ipykernel)",
   "language": "python",
   "name": "python3"
  },
  "language_info": {
   "codemirror_mode": {
    "name": "ipython",
    "version": 3
   },
   "file_extension": ".py",
   "mimetype": "text/x-python",
   "name": "python",
   "nbconvert_exporter": "python",
   "pygments_lexer": "ipython3",
   "version": "3.8.0"
  }
 },
 "nbformat": 4,
 "nbformat_minor": 2
}
