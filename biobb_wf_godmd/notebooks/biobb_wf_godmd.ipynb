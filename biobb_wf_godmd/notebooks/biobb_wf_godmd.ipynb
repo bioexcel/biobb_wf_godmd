{
 "cells": [
  {
   "cell_type": "markdown",
   "metadata": {},
   "source": [
    "# Protein Conformational Transitions calculations tutorial using BioExcel Building Blocks (biobb) and GOdMD\n",
    "\n",
    "***\n",
    "This tutorial aims to illustrate the process of computing a **conformational transition** between two known **structural conformations** of a protein, step by step, using the **BioExcel Building Blocks library (biobb)**. \n",
    "\n",
    "Examples shown are the calculation of the conformational transition for the **Adenylate Kinase** protein, from the **closed state** (PDB Code [1AKE](https://www.rcsb.org/structure/1AKE), [https://doi.org/10.2210/pdb1AKE/pdb](https://doi.org/10.2210/pdb1AKE/pdb)) to the **open state** (PDB Code [4AKE](https://www.rcsb.org/structure/4AKE), [https://doi.org/10.2210/pdb4AKE/pdb](https://doi.org/10.2210/pdb4AKE/pdb)). **Adenylate Kinases** are **phosphotransferase enzymes** that catalyze the interconversion of the various **adenosine phosphates** (ATP, ADP, and AMP), and are known to undergo large **conformational changes** during their **catalytic cycle**.\n",
    "\n",
    "The code wrapped is the ***GOdMD*** method, developed in the **[Molecular Modeling and Bioinformatics](https://mmb.irbbarcelona.org/www/) group** (IRB Barcelona). **GOdMD** determines pathways for **conformational transitions** in macromolecules using **discrete molecular dynamics** and **biasing techniques** based on a combination of **essential dynamics** and **Maxwell-Demon sampling techniques**. A web implementation of the method can be found here: https://mmb.irbbarcelona.org/GOdMD/index.php\n",
    "\n",
    "**Exploration of conformational transition pathways from coarse-grained simulations.**<br>\n",
    "*Sfriso P, Hospital A, Emperador A, Orozco M.*<br>\n",
    "*Bioinformatics, 129(16):1980-6.*<br>\n",
    "*Available at: https://doi.org/10.1093/bioinformatics/btt324*\n",
    "\n",
    "***\n",
    "\n",
    "## Settings\n",
    "\n",
    "### Biobb modules used\n",
    "\n",
    " - [biobb_godmd](https://github.com/bioexcel/biobb_godmd): Tools to compute protein conformational transitions using GOdMD.\n",
    " - [biobb_io](https://github.com/bioexcel/biobb_io): Tools to fetch biomolecular data from public databases.\n",
    " - [biobb_structure_utils](https://github.com/bioexcel/biobb_structure_utils): Tools to modify or extract information from a PDB structure.\n",
    " - [biobb_analysis](https://github.com/bioexcel/biobb_analysis): Tools to analyse Molecular Dynamics trajectories.\n",
    "  \n",
    "### Auxiliary libraries used\n",
    "\n",
    "* [emboss](https://www.ebi.ac.uk/Tools/emboss/): Software that automatically copes with data in a variety of formats and even allows transparent retrieval of sequence data from the web.\n",
    "* [jupyter](https://jupyter.org/): Free software, open standards, and web services for interactive computing across all programming languages.\n",
    "* [plotly](https://plot.ly/python/offline/): Python interactive graphing library integrated in Jupyter notebooks.\n",
    "* [nglview](https://nglviewer.org/#nglview): Jupyter/IPython widget to interactively view molecular structures and trajectories in notebooks.\n",
    "* [simpletraj](https://github.com/arose/simpletraj): Lightweight coordinate-only trajectory reader based on code from GROMACS, MDAnalysis and VMD.\n",
    "\n",
    "### Conda Installation and Launch\n",
    "\n",
    "```console\n",
    "git clone https://github.com/bioexcel/biobb_wf_godmd.git\n",
    "cd biobb_wf_godmd\n",
    "conda env create -f conda_env/environment.yml\n",
    "conda activate biobb_wf_godmd\n",
    "jupyter-notebook biobb_wf_godmd/notebooks/biobb_wf_godmd.ipynb\n",
    "``` \n",
    "\n",
    "***\n",
    "## Pipeline steps\n",
    " 1. [Input Parameters](#input)\n",
    " 2. [Fetching Structures](#fetch)\n",
    " 3. [Preparing Structures](#preparing)\n",
    " 3. [Residue Mapping](#mapping)\n",
    " 4. [Conformational Transition](#godmd)\n",
    " 5. [Transition Visualization](#trajectory)\n",
    " 6. [Questions & Comments](#questions)\n",
    " \n",
    "***\n",
    "\n",
    "<img src=\"https://bioexcel.eu/wp-content/uploads/2019/04/Bioexcell_logo_1080px_transp.png\" alt=\"Bioexcel2 logo\" width=\"400\" >\n",
    "\n",
    "***"
   ]
  },
  {
   "cell_type": "markdown",
   "metadata": {
    "jp-MarkdownHeadingCollapsed": true
   },
   "source": [
    "## Initializing colab\n",
    "The two cells below are used only in case this notebook is executed via **Google Colab**. Take into account that, for running conda on **Google Colab**, the **condacolab** library must be installed. As [explained here](https://pypi.org/project/condacolab/), the installation requires a **kernel restart**, so when running this notebook in **Google Colab**, don't run all cells until this **installation** is properly **finished** and the **kernel** has **restarted**."
   ]
  },
  {
   "cell_type": "code",
   "execution_count": null,
   "metadata": {},
   "outputs": [],
   "source": [
    "# Only executed when using google colab\n",
    "import sys\n",
    "if 'google.colab' in sys.modules:\n",
    "  import subprocess\n",
    "  from pathlib import Path\n",
    "  try:\n",
    "    subprocess.run([\"conda\", \"-V\"], check=True)\n",
    "  except FileNotFoundError:\n",
    "    subprocess.run([sys.executable, \"-m\", \"pip\", \"install\", \"condacolab\"], check=True)\n",
    "    import condacolab\n",
    "    condacolab.install()\n",
    "    # Clone repository\n",
    "    repo_URL = \"https://github.com/bioexcel/biobb_wf_godmd.git\"\n",
    "    repo_name = Path(repo_URL).name.split('.')[0]\n",
    "    if not Path(repo_name).exists():\n",
    "      subprocess.run([\"mamba\", \"install\", \"-y\", \"git\"], check=True)\n",
    "      subprocess.run([\"git\", \"clone\", repo_URL], check=True)\n",
    "      print(\"⏬ Repository properly cloned.\")\n",
    "    # Install environment\n",
    "    print(\"⏳ Creating environment...\")\n",
    "    env_file_path = f\"{repo_name}/conda_env/environment.yml\"\n",
    "    subprocess.run([\"mamba\", \"env\", \"update\", \"-n\", \"base\", \"-f\", env_file_path], check=True)\n",
    "    print(\"🎨 Install NGLView dependencies...\")\n",
    "    subprocess.run([\"mamba\", \"install\", \"-y\", \"-c\", \"conda-forge\", \"nglview==3.0.8\", \"ipywidgets=7.7.2\"], check=True)\n",
    "    print(\"👍 Conda environment successfully created and updated.\")"
   ]
  },
  {
   "cell_type": "code",
   "execution_count": null,
   "metadata": {},
   "outputs": [],
   "source": [
    "# Enable widgets for colab\n",
    "if 'google.colab' in sys.modules:\n",
    "  from google.colab import output\n",
    "  output.enable_custom_widget_manager()\n",
    "  # Change working dir\n",
    "  import os\n",
    "  os.chdir(\"biobb_wf_godmd/biobb_wf_godmd/notebooks\")\n",
    "  print(f\"📂 New working directory: {os.getcwd()}\")"
   ]
  },
  {
   "cell_type": "markdown",
   "metadata": {},
   "source": [
    "<a id=\"input\"></a>\n",
    "## Input parameters\n",
    "**Input parameters** needed:\n",
    " - **y libraries**: Libraries to be used in the workflow are imported once at the beginning\n",
    " \n",
    " \n",
    " - **pdbOrigin**: PDB code for the origin structure (e.g. 1AKE, [https://doi.org/10.2210/pdb1AKE/pdb](https://doi.org/10.2210/pdb1AKE/pdb))\n",
    " - **chainOrigin**: Chain for the origin structure (e.g. A)\n",
    " - **ligandOrigin**: Ligand (if present) for the origin structure (e.g. AP5, Drugbank [DB01717](https://go.drugbank.com/drugs/DB01717)) \n",
    " \n",
    " \n",
    " - **pdbTarget**: PDB code for the target structure (e.g. 4AKE, [https://doi.org/10.2210/pdb4AKE/pdb](https://doi.org/10.2210/pdb4AKE/pdb))\n",
    " - **chainTarget**: Chain for the target structure (e.g. A)\n",
    " - **ligandTarget**: Ligand (if present) for the target structure (e.g. None)\n"
   ]
  },
  {
   "cell_type": "code",
   "execution_count": null,
   "metadata": {},
   "outputs": [],
   "source": [
    "import os\n",
    "import plotly\n",
    "import plotly.graph_objs as go\n",
    "import nglview\n",
    "import ipywidgets\n",
    "\n",
    "# Adenylate Kinase (ADK)\n",
    "pdbOrigin = \"1ake\" \n",
    "chainOrigin = \"A\"\n",
    "ligandOrigin = \"AP5\"\n",
    "\n",
    "pdbTarget = \"4ake\" \n",
    "chainTarget = \"A\"\n",
    "ligandTarget = None\n",
    "\n",
    "# Other Examples (taken from https://mmb.irbbarcelona.org/TransAtlas/)\n",
    "\n",
    "# Estrogen Receptor Alpha (ERα)\n",
    "# pdbOrigin = \"1a52\" \n",
    "# pdbTarget = \"3dt3\" \n",
    "# chainOrigin = \"A\"\n",
    "# chainTarget = \"B\"\n",
    "# ligandOrigin = \"EST\"\n",
    "# ligandTarget = \"369\"\n",
    "\n",
    "# Calmodulin (CaM)\n",
    "# pdbOrigin = \"1deg\" \n",
    "# pdbTarget = \"2f2o\" \n",
    "# chainOrigin = \"A\"\n",
    "# chainTarget = \"A\"\n",
    "# ligandOrigin = None\n",
    "# ligandTarget = None"
   ]
  },
  {
   "cell_type": "markdown",
   "metadata": {},
   "source": [
    "<a id=\"fetch\"></a>\n",
    "***\n",
    "## Fetching PDB structures\n",
    "Downloading **PDB structures** with the origin and target **protein molecules** from the RCSB PDB database.<br>\n",
    "Alternatively, **PDB files** can be used as starting structures. <br>\n",
    "***\n",
    "**Building Blocks** used:\n",
    " - [Pdb](https://biobb-io.readthedocs.io/en/latest/api.html#module-api.pdb) from **biobb_io.api.pdb**\n",
    "***"
   ]
  },
  {
   "cell_type": "code",
   "execution_count": null,
   "metadata": {},
   "outputs": [],
   "source": [
    "# Import module\n",
    "from biobb_io.api.pdb import pdb\n",
    "\n",
    "# Create properties dict and inputs/outputs\n",
    "originPDB = pdbOrigin+'.pdb'\n",
    "targetPDB = pdbTarget+'.pdb'\n",
    "\n",
    "prop_origin = {\n",
    "    'pdb_code': pdbOrigin,\n",
    "    'filter': False\n",
    "}\n",
    "\n",
    "prop_target = {\n",
    "    'pdb_code': pdbTarget,\n",
    "    'filter': False\n",
    "}\n",
    "\n",
    "# Launch bb for Origin PDB\n",
    "pdb(output_pdb_path=originPDB,\n",
    "    properties=prop_origin)\n",
    "\n",
    "# Launch bb for Target PDB\n",
    "pdb(output_pdb_path=targetPDB,\n",
    "    properties=prop_target)"
   ]
  },
  {
   "cell_type": "markdown",
   "metadata": {},
   "source": [
    "<a id=\"vis3D\"></a>\n",
    "### Visualizing 3D structures\n",
    "Visualizing the downloaded/given **PDB structures** using **NGL**: "
   ]
  },
  {
   "cell_type": "code",
   "execution_count": null,
   "metadata": {},
   "outputs": [],
   "source": [
    "# Show different structures (for comparison)\n",
    "\n",
    "view1 = nglview.show_structure_file(originPDB)\n",
    "#view1.add_representation(repr_type='ball+stick')\n",
    "view1._remote_call('setSize', target='Widget', args=['400px','400px'])\n",
    "view1.camera='orthographic'\n",
    "view1\n",
    "view2 = nglview.show_structure_file(targetPDB)\n",
    "#view2.add_representation(repr_type='ball+stick')\n",
    "view2._remote_call('setSize', target='Widget', args=['400px','400px'])\n",
    "view2.camera='orthographic'\n",
    "view2\n",
    "ipywidgets.HBox([view1, view2])"
   ]
  },
  {
   "cell_type": "markdown",
   "metadata": {},
   "source": [
    "<a id=\"preparing\"></a>\n",
    "***\n",
    "## Preparing the structures\n",
    "Preparing the **structures** to be used for the **conformational transition** calculation. \n",
    "- Extracting the interesting **chains** from the **PDB structures** (chain A in both cases).\n",
    "- Removing the **inhibitor** AP5A from the **closed conformation**. \n",
    "***\n",
    "**Building Blocks** used:\n",
    " - [extract_chain](https://biobb-structure-utils.readthedocs.io/en/stable/utils.html#module-utils.extract_chain) from **biobb_structure_utils.utils.extract_chain**\n",
    " - [remove_molecules](https://biobb-structure-utils.readthedocs.io/en/stable/utils.html#module-utils.remove_molecules) from **biobb_structure_utils.utils.remove_molecules**\n",
    " \n",
    "***"
   ]
  },
  {
   "cell_type": "markdown",
   "metadata": {},
   "source": [
    "Extracting the interesting **chains** from the **PDB structures** (chain A in both cases)."
   ]
  },
  {
   "cell_type": "code",
   "execution_count": null,
   "metadata": {
    "scrolled": true
   },
   "outputs": [],
   "source": [
    "from biobb_structure_utils.utils.extract_chain import extract_chain\n",
    "\n",
    "originPDB_chain = pdbOrigin + \".chains.pdb\"\n",
    "targetPDB_chain = pdbTarget + \".chains.pdb\"\n",
    "\n",
    "prop = {\n",
    "    'chains': [ chainOrigin ]\n",
    "}\n",
    "\n",
    "\n",
    "# Launch bb for Origin PDB\n",
    "extract_chain(\n",
    "    input_structure_path=originPDB,\n",
    "    output_structure_path=originPDB_chain,\n",
    "    properties=prop\n",
    ")\n",
    "\n",
    "prop = {\n",
    "    'chains': [ chainTarget ]\n",
    "}\n",
    "\n",
    "# Launch bb for Target PDB\n",
    "extract_chain(\n",
    "    input_structure_path=targetPDB,\n",
    "    output_structure_path=targetPDB_chain,\n",
    "    properties=prop\n",
    ")"
   ]
  },
  {
   "cell_type": "markdown",
   "metadata": {},
   "source": [
    "Removing the **inhibitor** AP5A from the **closed conformation**. "
   ]
  },
  {
   "cell_type": "code",
   "execution_count": null,
   "metadata": {},
   "outputs": [],
   "source": [
    "from biobb_structure_utils.utils.remove_molecules import remove_molecules\n",
    "\n",
    "originPDB_chain_nolig = pdbOrigin + \".chains.nolig.pdb\"\n",
    "targetPDB_chain_nolig = pdbTarget + \".chains.nolig.pdb\"\n",
    "\n",
    "if ligandOrigin:\n",
    "    prop = {\n",
    "        'molecules': [\n",
    "            {\n",
    "                'name' : ligandOrigin\n",
    "            }\n",
    "        ]\n",
    "    }\n",
    "    remove_molecules(input_structure_path=originPDB_chain,\n",
    "                     output_molecules_path=originPDB_chain_nolig,\n",
    "                     properties=prop)\n",
    "else:\n",
    "    originPDB_chain_nolig = originPDB_chain\n",
    "\n",
    "if ligandTarget:\n",
    "    prop = {\n",
    "        'molecules': [\n",
    "            {\n",
    "                'name' : ligandTarget\n",
    "            }\n",
    "        ]\n",
    "    }\n",
    "    remove_molecules(input_structure_path=targetPDB_chain,\n",
    "                     output_molecules_path=targetPDB_chain_nolig,\n",
    "                     properties=prop)\n",
    "else:\n",
    "    targetPDB_chain_nolig = targetPDB_chain\n"
   ]
  },
  {
   "cell_type": "markdown",
   "metadata": {},
   "source": [
    "<a id=\"vis3D_chains\"></a>\n",
    "### Visualizing 3D structures\n",
    "Visualizing the modified **PDB structures** using **NGL**: "
   ]
  },
  {
   "cell_type": "code",
   "execution_count": null,
   "metadata": {},
   "outputs": [],
   "source": [
    "# Show different structures generated (for comparison)\n",
    "\n",
    "view1 = nglview.show_structure_file(originPDB_chain_nolig)\n",
    "#view1.add_representation(repr_type='ball+stick')\n",
    "view1._remote_call('setSize', target='Widget', args=['400px','400px'])\n",
    "view1.camera='orthographic'\n",
    "view1\n",
    "view2 = nglview.show_structure_file(targetPDB_chain_nolig)\n",
    "#view2.add_representation(repr_type='ball+stick')\n",
    "view2._remote_call('setSize', target='Widget', args=['400px','400px'])\n",
    "view2.camera='orthographic'\n",
    "view2\n",
    "ipywidgets.HBox([view1, view2])"
   ]
  },
  {
   "cell_type": "markdown",
   "metadata": {},
   "source": [
    "<a id=\"mapping\"></a>\n",
    "***\n",
    "## Computing the mapping\n",
    "**GOdMD** works by moving the atoms from the position of the **origin structure** to the one in the **target structure**. For that, a one-to-one correspondance is needed. This step builds a couple of **mapping files** (.aln) from an internal **sequence alignment** (using ***[EMBOSS water](https://www.ebi.ac.uk/Tools/psa/emboss_water/)*** pairwise sequence alignment tool).     \n",
    "***\n",
    "**Building Blocks** used:\n",
    " - [godmd_prep](https://biobb-godmd.readthedocs.io/en/latest/godmd.html#module-godmd.godmd_prep) from **biobb_godmd.godmd.godmd_prep**\n",
    " \n",
    "***"
   ]
  },
  {
   "cell_type": "code",
   "execution_count": null,
   "metadata": {
    "scrolled": true
   },
   "outputs": [],
   "source": [
    "from biobb_godmd.godmd.godmd_prep import godmd_prep\n",
    "\n",
    "originALN = pdbOrigin + \".aln\"\n",
    "targetALN = pdbTarget + \".aln\"\n",
    "\n",
    "prop = {\n",
    "    'gapopen' : '12.0',\n",
    "    'gapextend' : '2'\n",
    "}\n",
    "\n",
    "godmd_prep( input_pdb_orig_path=originPDB_chain_nolig,\n",
    "            input_pdb_target_path=targetPDB_chain_nolig,\n",
    "            output_aln_orig_path=originALN,\n",
    "            output_aln_target_path=targetALN,\n",
    "            properties=prop)"
   ]
  },
  {
   "cell_type": "markdown",
   "metadata": {},
   "source": [
    "<a id=\"godmd\"></a>\n",
    "***\n",
    "## Running GOdMD \n",
    "Computing the **conformational transition**, from the **origin** to the **target** structure, using **GOdMD** and the **mappings** generated in the previous step. The output file is a **trajectory file** in **mdcrd** format.\n",
    "    \n",
    "***\n",
    "**Building Blocks** used:\n",
    " - [godmd_run](https://biobb-godmd.readthedocs.io/en/latest/godmd.html#module-godmd.godmd_run) from **biobb_godmd.godmd.godmd_run**\n",
    " \n",
    "***"
   ]
  },
  {
   "cell_type": "code",
   "execution_count": null,
   "metadata": {},
   "outputs": [],
   "source": [
    "from biobb_godmd.godmd.godmd_run import godmd_run\n",
    "\n",
    "godmd_log = pdbOrigin + \"-\" + pdbTarget + \".godmd.log\"\n",
    "godmd_trj = pdbOrigin + \"-\" + pdbTarget + \".godmd.mdcrd\"\n",
    "godmd_ene = pdbOrigin + \"-\" + pdbTarget + \".godmd.ene.out\"\n",
    "godmd_pdb = pdbOrigin + \"-\" + pdbTarget + \".godmd.pdb\"\n",
    "\n",
    "prop = {\n",
    "    'godmdin':{\n",
    "        'temp' : 400\n",
    "    }\n",
    "}\n",
    "\n",
    "godmd_run(   input_pdb_orig_path=originPDB_chain_nolig,\n",
    "             input_pdb_target_path=targetPDB_chain_nolig,\n",
    "             input_aln_orig_path=originALN,\n",
    "             input_aln_target_path=targetALN,\n",
    "             output_log_path=godmd_log,\n",
    "             output_ene_path=godmd_ene,\n",
    "             output_trj_path=godmd_trj,\n",
    "             output_pdb_path=godmd_pdb,\n",
    "             properties=prop)\n"
   ]
  },
  {
   "cell_type": "markdown",
   "metadata": {},
   "source": [
    "<a id=\"xtc\"></a>\n",
    "***\n",
    "## Converting trajectory to XTC (visualization)\n",
    "Converting the generated **GOdMD trajectory** from the **mdcrd** format to a **xtc** format, for the sake of visualization with **NGL** (see next cell).<br> <br>\n",
    "***\n",
    "**Building Blocks** used:\n",
    " - [cpptraj_convert](https://biobb-analysis.readthedocs.io/en/latest/ambertools.html#module-ambertools.cpptraj_convert) from **biobb_analysis.ambertools.cpptraj_convert**\n",
    "***"
   ]
  },
  {
   "cell_type": "code",
   "execution_count": null,
   "metadata": {
    "scrolled": true
   },
   "outputs": [],
   "source": [
    "from biobb_analysis.ambertools.cpptraj_convert import cpptraj_convert\n",
    "\n",
    "godmd_trj_xtc = pdbOrigin + \"-\" + pdbTarget + \".godmd.xtc\"\n",
    "\n",
    "prop = {\n",
    "    'format': 'xtc'\n",
    "}\n",
    "\n",
    "cpptraj_convert(input_top_path=godmd_pdb,\n",
    "                input_traj_path=godmd_trj,\n",
    "                output_cpptraj_path=godmd_trj_xtc,\n",
    "                properties=prop)\n"
   ]
  },
  {
   "cell_type": "markdown",
   "metadata": {},
   "source": [
    "***\n",
    "<a id=\"trajectory\"></a>\n",
    "## Visualizing trajectory\n",
    "Visualizing the **GOdMD** computed **conformational transition** using **NGL**. The scene shows the **origin** (tube, blue) and **target** (tube, red) structure for reference. \n",
    "\n",
    "***"
   ]
  },
  {
   "cell_type": "code",
   "execution_count": null,
   "metadata": {},
   "outputs": [],
   "source": [
    "# Show trajectory\n",
    "\n",
    "view = nglview.show_simpletraj(nglview.SimpletrajTrajectory(godmd_trj_xtc, godmd_pdb), gui=True)\n",
    "\n",
    "view.add_representation(repr_type='tube', colorScheme = 'atomindex')\n",
    "\n",
    "# Origin Structure (comment when executing in google colab)\n",
    "b = view.add_component(nglview.FileStructure(originPDB_chain_nolig))\n",
    "b.clear_representations()\n",
    "b.add_representation(repr_type='tube',\n",
    "                        opacity=.2,\n",
    "                        color='blue')\n",
    "\n",
    "# Target Structure (comment when executing in google colab)\n",
    "c = view.add_component(nglview.FileStructure(targetPDB_chain_nolig))\n",
    "c.clear_representations()\n",
    "c.add_representation(repr_type='tube', \n",
    "                       opacity=.2,\n",
    "                        color='red')\n",
    "\n",
    "# Align origin and target\n",
    "code = \"\"\"\n",
    "var stage = this.stage;\n",
    "var clist_len = stage.compList.length;\n",
    "var i = 0;\n",
    "var s = [];\n",
    "for(i = 0; i <= clist_len; i++){\n",
    "    if(stage.compList[i] != undefined && stage.compList[i].structure != undefined) {        \n",
    "       s.push(stage.compList[i])\n",
    "    }\n",
    "}\n",
    "NGL.superpose(s[1].structure, s[2].structure, true, \".CA\")\n",
    "s[ 1 ].updateRepresentations({ position: true })\n",
    "s[ 1 ].autoView()\n",
    "\"\"\"\n",
    "\n",
    "#  (comment when executing in google colab)\n",
    "view._execute_js_code(code)\n",
    "\n",
    "view._remote_call('setSize', target='Widget', args=['800px','600px'])\n",
    "view"
   ]
  },
  {
   "cell_type": "markdown",
   "metadata": {},
   "source": [
    "***\n",
    "<a id=\"questions\"></a>\n",
    "\n",
    "## Questions & Comments\n",
    "\n",
    "Questions, issues, suggestions and comments are really welcome!\n",
    "\n",
    "* GitHub issues:\n",
    "    * [https://github.com/bioexcel/biobb](https://github.com/bioexcel/biobb)\n",
    "\n",
    "* BioExcel forum:\n",
    "    * [https://ask.bioexcel.eu/c/BioExcel-Building-Blocks-library](https://ask.bioexcel.eu/c/BioExcel-Building-Blocks-library)\n"
   ]
  }
 ],
 "metadata": {
  "kernelspec": {
   "display_name": "Python 3 (ipykernel)",
   "language": "python",
   "name": "python3"
  },
  "language_info": {
   "codemirror_mode": {
    "name": "ipython",
    "version": 3
   },
   "file_extension": ".py",
   "mimetype": "text/x-python",
   "name": "python",
   "nbconvert_exporter": "python",
   "pygments_lexer": "ipython3",
   "version": "3.10.14"
  }
 },
 "nbformat": 4,
 "nbformat_minor": 4
}
